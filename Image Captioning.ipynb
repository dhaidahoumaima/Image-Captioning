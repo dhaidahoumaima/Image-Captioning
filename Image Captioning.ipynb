{
  "cells": [
    {
      "cell_type": "markdown",
      "metadata": {
        "id": "vR0con3OuFBM"
      },
      "source": [
        "## 0. Libraries / packages\n",
        "Necessary packages / library to import"
      ]
    },
    {
      "cell_type": "code",
      "execution_count": 1,
      "metadata": {
        "id": "lyGWby4VpNMC"
      },
      "outputs": [],
      "source": [
        "#@title\n",
        "import torch\n",
        "from torch.utils.data import Dataset\n",
        "import h5py\n",
        "import json\n",
        "import os\n",
        "import torchvision\n",
        "import numpy as np\n",
        "from cv2 import imread, resize\n",
        "from tqdm import tqdm\n",
        "from collections import Counter\n",
        "from random import seed, choice, sample\n",
        "import time\n",
        "import torch.backends.cudnn as cudnn\n",
        "import torch.optim\n",
        "import torch.utils.data\n",
        "import torchvision.transforms as transforms\n",
        "from torch import nn\n",
        "from torch.nn.utils.rnn import pack_padded_sequence\n",
        "from nltk.translate.bleu_score import corpus_bleu\n",
        "import torch.nn.functional as F\n",
        "import matplotlib.pyplot as plt\n",
        "import matplotlib.cm as cm\n",
        "import skimage.transform\n",
        "import argparse\n",
        "from PIL import Image"
      ]
    },
    {
      "cell_type": "markdown",
      "metadata": {
        "id": "9S9rDk0Eg6FX"
      },
      "source": [
        "## 1. Utils\n",
        "Necessary helper functions to save your time"
      ]
    },
    {
      "cell_type": "code",
      "execution_count": 2,
      "metadata": {
        "id": "b-eiVe6Qg4Op"
      },
      "outputs": [],
      "source": [
        "#@title\n",
        "def init_embedding(embeddings):\n",
        "    \"\"\"\n",
        "    Fills embedding tensor with values from the uniform distribution.\n",
        "    :param embeddings: embedding tensor\n",
        "    \"\"\"\n",
        "    bias = np.sqrt(3.0 / embeddings.size(1))\n",
        "    torch.nn.init.uniform_(embeddings, -bias, bias)\n",
        "\n",
        "\n",
        "def load_embeddings(emb_file, word_map):\n",
        "    \"\"\"\n",
        "    Creates an embedding tensor for the specified word map, for loading into the model.\n",
        "    :param emb_file: file containing embeddings (stored in GloVe format)\n",
        "    :param word_map: word map\n",
        "    :return: embeddings in the same order as the words in the word map, dimension of embeddings\n",
        "    \"\"\"\n",
        "\n",
        "    # Find embedding dimension\n",
        "    with open(emb_file, 'r') as f:\n",
        "        emb_dim = len(f.readline().split(' ')) - 1\n",
        "\n",
        "    vocab = set(word_map.keys())\n",
        "\n",
        "    # Create tensor to hold embeddings, initialize\n",
        "    embeddings = torch.FloatTensor(len(vocab), emb_dim)\n",
        "    init_embedding(embeddings)\n",
        "\n",
        "    # Read embedding file\n",
        "    print(\"\\nLoading embeddings...\")\n",
        "    for line in open(emb_file, 'r'):\n",
        "        line = line.split(' ')\n",
        "\n",
        "        emb_word = line[0]\n",
        "        embedding = list(map(lambda t: float(t), filter(lambda n: n and not n.isspace(), line[1:])))\n",
        "\n",
        "        # Ignore word if not in train_vocab\n",
        "        if emb_word not in vocab:\n",
        "            continue\n",
        "\n",
        "        embeddings[word_map[emb_word]] = torch.FloatTensor(embedding)\n",
        "\n",
        "    return embeddings, emb_dim\n",
        "\n",
        "\n",
        "def clip_gradient(optimizer, grad_clip):\n",
        "    \"\"\"\n",
        "    Clips gradients computed during backpropagation to avoid explosion of gradients.\n",
        "    :param optimizer: optimizer with the gradients to be clipped\n",
        "    :param grad_clip: clip value\n",
        "    \"\"\"\n",
        "    for group in optimizer.param_groups:\n",
        "        for param in group['params']:\n",
        "            if param.grad is not None:\n",
        "                param.grad.data.clamp_(-grad_clip, grad_clip)\n",
        "\n",
        "\n",
        "def save_checkpoint(data_name, epoch, epochs_since_improvement, encoder, decoder, encoder_optimizer, decoder_optimizer,\n",
        "                    bleu4, is_best):\n",
        "    \"\"\"\n",
        "    Saves model checkpoint.\n",
        "    :param data_name: base name of processed dataset\n",
        "    :param epoch: epoch number\n",
        "    :param epochs_since_improvement: number of epochs since last improvement in BLEU-4 score\n",
        "    :param encoder: encoder model\n",
        "    :param decoder: decoder model\n",
        "    :param encoder_optimizer: optimizer to update encoder's weights, if fine-tuning\n",
        "    :param decoder_optimizer: optimizer to update decoder's weights\n",
        "    :param bleu4: validation BLEU-4 score for this epoch\n",
        "    :param is_best: is this checkpoint the best so far?\n",
        "    \"\"\"\n",
        "    state = {'epoch': epoch,\n",
        "             'epochs_since_improvement': epochs_since_improvement,\n",
        "             'bleu-4': bleu4,\n",
        "             'encoder': encoder,\n",
        "             'decoder': decoder,\n",
        "             'encoder_optimizer': encoder_optimizer,\n",
        "             'decoder_optimizer': decoder_optimizer}\n",
        "    filename = 'checkpoint_' + data_name + '.pth.tar'\n",
        "    torch.save(state, filename)\n",
        "    # If this checkpoint is the best so far, store a copy so it doesn't get overwritten by a worse checkpoint\n",
        "    if is_best:\n",
        "        torch.save(state, 'BEST_' + filename)\n",
        "\n",
        "\n",
        "class AverageMeter(object):\n",
        "    \"\"\"\n",
        "    Keeps track of most recent, average, sum, and count of a metric.\n",
        "    \"\"\"\n",
        "\n",
        "    def __init__(self):\n",
        "        self.reset()\n",
        "\n",
        "    def reset(self):\n",
        "        self.val = 0\n",
        "        self.avg = 0\n",
        "        self.sum = 0\n",
        "        self.count = 0\n",
        "\n",
        "    def update(self, val, n=1):\n",
        "        self.val = val\n",
        "        self.sum += val * n\n",
        "        self.count += n\n",
        "        self.avg = self.sum / self.count\n",
        "\n",
        "\n",
        "def adjust_learning_rate(optimizer, shrink_factor):\n",
        "    \"\"\"\n",
        "    Shrinks learning rate by a specified factor.\n",
        "    :param optimizer: optimizer whose learning rate must be shrunk.\n",
        "    :param shrink_factor: factor in interval (0, 1) to multiply learning rate with.\n",
        "    \"\"\"\n",
        "\n",
        "    print(\"\\nDECAYING learning rate.\")\n",
        "    for param_group in optimizer.param_groups:\n",
        "        param_group['lr'] = param_group['lr'] * shrink_factor\n",
        "    print(\"The new learning rate is %f\\n\" % (optimizer.param_groups[0]['lr'],))\n",
        "\n",
        "\n",
        "def accuracy(scores, targets, k):\n",
        "    \"\"\"\n",
        "    Computes top-k accuracy, from predicted and true labels.\n",
        "    :param scores: scores from the model\n",
        "    :param targets: true labels\n",
        "    :param k: k in top-k accuracy\n",
        "    :return: top-k accuracy\n",
        "    \"\"\"\n",
        "\n",
        "    batch_size = targets.size(0)\n",
        "    _, ind = scores.topk(k, 1, True, True)\n",
        "    correct = ind.eq(targets.view(-1, 1).expand_as(ind))\n",
        "    correct_total = correct.view(-1).float().sum()  # 0D tensor\n",
        "    return correct_total.item() * (100.0 / batch_size)"
      ]
    },
    {
      "cell_type": "markdown",
      "metadata": {
        "id": "o1tucmxFuklk"
      },
      "source": [
        "## 2. Dataset\n",
        "The dataset has already been pre-processed and split for you. There are 5000 images and captions for training, 1000 for validation and 1000 for testing. The images, captions, lenght of captions and vocabulary have been saved.\n",
        "\n",
        "The images have a resolution of (3, 256, 256) (channels, width, height). The captions have a maximum length of 100. Each image has 5 captions and the minimum word frequency is 5. \n",
        "\n",
        "The functions below facilitate the loading of the dataset."
      ]
    },
    {
      "cell_type": "markdown",
      "metadata": {
        "id": "yFRBWOttkO-L"
      },
      "source": [
        "2.1) Data class"
      ]
    },
    {
      "cell_type": "code",
      "execution_count": 3,
      "metadata": {
        "colab": {
          "base_uri": "https://localhost:8080/"
        },
        "id": "5ng7Hn_gul3J",
        "outputId": "150cd999-9f64-4da2-e91b-682c39cde55e"
      },
      "outputs": [
        {
          "name": "stderr",
          "output_type": "stream",
          "text": [
            "<>:48: SyntaxWarning: \"is\" with a literal. Did you mean \"==\"?\n",
            "<>:48: SyntaxWarning: \"is\" with a literal. Did you mean \"==\"?\n",
            "<ipython-input-3-ce59716cd8de>:48: SyntaxWarning: \"is\" with a literal. Did you mean \"==\"?\n",
            "  if self.split is 'TRAIN':\n"
          ]
        }
      ],
      "source": [
        "#@title\n",
        "class CaptionDataset(Dataset):\n",
        "    \"\"\"\n",
        "    A PyTorch Dataset class to be used in a PyTorch DataLoader to create batches.\n",
        "    \"\"\"\n",
        "\n",
        "    def __init__(self, data_folder, data_name, split, transform=None):\n",
        "        \"\"\"\n",
        "        :param data_folder: folder where data files are stored\n",
        "        :param data_name: base name of processed datasets\n",
        "        :param split: split, one of 'TRAIN', 'VAL', or 'TEST'\n",
        "        :param transform: image transform pipeline\n",
        "        \"\"\"\n",
        "        self.split = split\n",
        "        assert self.split in {'TRAIN', 'VAL', 'TEST'}\n",
        "\n",
        "        # Open hdf5 file where images are stored\n",
        "        self.h = h5py.File(os.path.join(data_folder, self.split + '_IMAGES_' + data_name + '.hdf5'), 'r')\n",
        "        self.imgs = self.h['images']\n",
        "\n",
        "        # Captions per image\n",
        "        self.cpi = self.h.attrs['captions_per_image']\n",
        "\n",
        "        # Load encoded captions (completely into memory)\n",
        "        with open(os.path.join(data_folder, self.split + '_CAPTIONS_' + data_name + '.json'), 'r') as j:\n",
        "            self.captions = json.load(j)\n",
        "\n",
        "        # Load caption lengths (completely into memory)\n",
        "        with open(os.path.join(data_folder, self.split + '_CAPLENS_' + data_name + '.json'), 'r') as j:\n",
        "            self.caplens = json.load(j)\n",
        "\n",
        "        # PyTorch transformation pipeline for the image (normalizing, etc.)\n",
        "        self.transform = transform\n",
        "\n",
        "        # Total number of datapoints\n",
        "        self.dataset_size = len(self.captions)\n",
        "\n",
        "    def __getitem__(self, i):\n",
        "        # Remember, the Nth caption corresponds to the (N // captions_per_image)th image\n",
        "        img = torch.FloatTensor(self.imgs[i // self.cpi] / 255.)\n",
        "        if self.transform is not None:\n",
        "            img = self.transform(img)\n",
        "\n",
        "        caption = torch.LongTensor(self.captions[i])\n",
        "\n",
        "        caplen = torch.LongTensor([self.caplens[i]])\n",
        "\n",
        "        if self.split is 'TRAIN':\n",
        "            return img, caption, caplen\n",
        "        else:\n",
        "            # For validation of testing, also return all 'captions_per_image' captions to find BLEU-4 score\n",
        "            all_captions = torch.LongTensor(\n",
        "                self.captions[((i // self.cpi) * self.cpi):(((i // self.cpi) * self.cpi) + self.cpi)])\n",
        "            return img, caption, caplen, all_captions\n",
        "\n",
        "    def __len__(self):\n",
        "        return self.dataset_size"
      ]
    },
    {
      "cell_type": "markdown",
      "metadata": {
        "id": "Oia74-j3kVJ7"
      },
      "source": [
        "2.2) Specify the location of your dataset"
      ]
    },
    {
      "cell_type": "code",
      "execution_count": 14,
      "metadata": {
        "colab": {
          "base_uri": "https://localhost:8080/"
        },
        "id": "By5NmLTP1SXa",
        "outputId": "4d9a5036-2c2f-42f1-9fec-4138e5d4536e"
      },
      "outputs": [
        {
          "name": "stdout",
          "output_type": "stream",
          "text": [
            "/usr/local/lib/python3.8/dist-packages/gdown/cli.py:127: FutureWarning: Option `--id` was deprecated in version 4.3.1 and will be removed in 5.0. You don't need to pass it anymore to use a file ID.\n",
            "  warnings.warn(\n",
            "Access denied with the following error:\n",
            "\n",
            " \tCannot retrieve the public link of the file. You may need to change\n",
            "\tthe permission to 'Anyone with the link', or have had many accesses. \n",
            "\n",
            "You may still be able to access the file from the browser:\n",
            "\n",
            "\t https://drive.google.com/uc?id=12GXV7YRUwE-2Bb27r91kL7vgzyssT8KU \n",
            "\n"
          ]
        }
      ],
      "source": [
        "#@title\n",
        "#Download the dataset from my shared link https://drive.google.com/file/d/19DICALUfRYk6wi8LYsaivmnhuc2XX3_k/view?usp=share_link\n",
        "!gdown --id 12GXV7YRUwE-2Bb27r91kL7vgzyssT8KU"
      ]
    },
    {
      "cell_type": "markdown",
      "metadata": {
        "id": "-fN0zpQaa1c9"
      },
      "source": [
        "For some reason, gdown gives a permission error, altough the file has already been shared with 'Anyone with link'. Therefore, in case you face an error, run the cell below. Otherwise, ignore it."
      ]
    },
    {
      "cell_type": "code",
      "execution_count": 4,
      "metadata": {
        "id": "ymWWl5ZOaL1F"
      },
      "outputs": [],
      "source": [
        "!curl -L -s -o coco_image_captions_preprocessed.zip 'https://drive.google.com/uc?id=12GXV7YRUwE-2Bb27r91kL7vgzyssT8KU&confirm=t'"
      ]
    },
    {
      "cell_type": "markdown",
      "metadata": {
        "id": "RYSllioQbCSL"
      },
      "source": [
        "If somehow, you are still having issues with the data, you can download it manually from here https://drive.google.com/file/d/19DICALUfRYk6wi8LYsaivmnhuc2XX3_k/view?usp=share_link or https://ikelte-my.sharepoint.com/:u:/g/personal/a1w636_inf_elte_hu/EW2BMOHZhJxPp0kw1iYhEPQB2qPbSaUw1b_UIkgmMB8YLg?e=MF4A0s and upload it to your notebook"
      ]
    },
    {
      "cell_type": "code",
      "execution_count": 5,
      "metadata": {
        "colab": {
          "base_uri": "https://localhost:8080/"
        },
        "id": "daeC-rSW33wS",
        "outputId": "41b962c3-0464-4e59-a86f-c9bc66bef3b3"
      },
      "outputs": [
        {
          "name": "stdout",
          "output_type": "stream",
          "text": [
            "Archive:  coco_image_captions_preprocessed.zip\n",
            "  inflating: coco_image_captions_preprocessed/TRAIN_CAPLENS_coco_5_cap_per_img_5_min_word_freq.json  \n",
            "  inflating: coco_image_captions_preprocessed/TRAIN_CAPTIONS_coco_5_cap_per_img_5_min_word_freq.json  \n",
            "  inflating: coco_image_captions_preprocessed/TRAIN_IMAGES_coco_5_cap_per_img_5_min_word_freq.hdf5  \n",
            "  inflating: coco_image_captions_preprocessed/VAL_CAPLENS_coco_5_cap_per_img_5_min_word_freq.json  \n",
            "  inflating: coco_image_captions_preprocessed/VAL_CAPTIONS_coco_5_cap_per_img_5_min_word_freq.json  \n",
            "  inflating: coco_image_captions_preprocessed/VAL_IMAGES_coco_5_cap_per_img_5_min_word_freq.hdf5  \n",
            "  inflating: coco_image_captions_preprocessed/WORDMAP_coco_5_cap_per_img_5_min_word_freq.json  \n",
            "  inflating: coco_image_captions_preprocessed/TEST_CAPLENS_coco_5_cap_per_img_5_min_word_freq.json  \n",
            "  inflating: coco_image_captions_preprocessed/TEST_CAPTIONS_coco_5_cap_per_img_5_min_word_freq.json  \n",
            "  inflating: coco_image_captions_preprocessed/TEST_IMAGES_coco_5_cap_per_img_5_min_word_freq.hdf5  \n"
          ]
        }
      ],
      "source": [
        "#@title\n",
        "!mkdir coco_image_captions_preprocessed/\n",
        "!unzip coco_image_captions_preprocessed.zip -d coco_image_captions_preprocessed/"
      ]
    },
    {
      "cell_type": "code",
      "execution_count": 6,
      "metadata": {
        "id": "V96lFRowkzEz"
      },
      "outputs": [],
      "source": [
        "#@title\n",
        "# Data parameters\n",
        "data_folder = 'coco_image_captions_preprocessed/'  # folder with data files \n",
        "data_name = 'coco_5_cap_per_img_5_min_word_freq'  # base name shared by data files"
      ]
    },
    {
      "cell_type": "markdown",
      "metadata": {
        "id": "XG9jrKpRw-xN"
      },
      "source": [
        "## 3. Model\n",
        "The Encoder-Decoder with Attention network is used for this task. The model is already defined, you have to set the hyperparameters. This is critical for achieving good results. \n",
        "\n",
        "**Please edit the cell 3.3)**"
      ]
    },
    {
      "cell_type": "markdown",
      "metadata": {
        "id": "iRqTrtSBl62Z"
      },
      "source": [
        "Essentially, we are trying to create something SIMILAR (not the same) as this:\n",
        "![](http://kelvinxu.github.io/projects/diags/model_diag.png)"
      ]
    },
    {
      "cell_type": "code",
      "execution_count": 7,
      "metadata": {
        "colab": {
          "base_uri": "https://localhost:8080/"
        },
        "id": "a0ztXO8-lh-f",
        "outputId": "09a3d86d-f32a-46c5-eca9-85d8ee0c1782"
      },
      "outputs": [
        {
          "data": {
            "text/plain": [
              "device(type='cuda')"
            ]
          },
          "execution_count": 7,
          "metadata": {},
          "output_type": "execute_result"
        }
      ],
      "source": [
        "#@title\n",
        "device = torch.device(\"cuda\" if torch.cuda.is_available() else \"cpu\") #make sure that you are using GPU acceleration\n",
        "device"
      ]
    },
    {
      "cell_type": "markdown",
      "metadata": {
        "id": "YQDmlw78lqEE"
      },
      "source": [
        "#### **3.1) Encoder**\n",
        "**Given the description and figure, implement the encoder. Define the layers in the init method and the forward propagation in the forward method!**\n",
        "\n",
        "**Description**\n",
        "\n",
        "The class Encoder defines the encoder of our model. \n",
        "It is initialized with ResNet50 pretrained weights. The last 2 layers are removed and you should extend it with the layers from the figure below. \n",
        "Tips:\n",
        "- torch.nn.Conv2d(in_channels, out_channels, kernel_size, stride=1, padding=0, dilation=1, groups=1, bias=True, padding_mode='zeros', device=None, dtype=None)\n",
        "- torch.nn.MaxPool2d(kernel_size, stride=None, padding=0, dilation=1, return_indices=False, ceil_mode=False)\n",
        "- torch.nn.BatchNorm2d(num_features, eps=1e-05, momentum=0.1, affine=True, track_running_stats=True, device=None, dtype=None)\n",
        "- torch.nn.ReLU(inplace=False)\n",
        "- torch.nn.AdaptiveAvgPool2d(output_size)\n",
        "- torch.cat(tensors, dim=0, *, out=None)\n",
        "\n",
        "<br>\n",
        "\n",
        "!!! Please right click the image and \"Open image in a new tab\" to view it better with zoom. !!! \n",
        "\n",
        "Or download it from here: https://drive.google.com/file/d/1zV5kDKjBNcZ76yvwViKoXaHLQH1VNEDC/view?usp=sharing\n",
        "\n",
        "<br>\n",
        "<br>\n",
        "\n",
        "![](https://drive.google.com/uc?export=view&id=1zV5kDKjBNcZ76yvwViKoXaHLQH1VNEDC)"
      ]
    },
    {
      "cell_type": "code",
      "execution_count": 8,
      "metadata": {
        "cellView": "code",
        "id": "l2AxpZ2-loc_"
      },
      "outputs": [],
      "source": [
        "#@title\n",
        "class Encoder(nn.Module):\n",
        "    \"\"\"\n",
        "    Encoder.\n",
        "    \"\"\"\n",
        "    def __init__(self, encoded_image_size=14):\n",
        "        super(Encoder, self).__init__()\n",
        "        self.enc_image_size = encoded_image_size\n",
        "\n",
        "        resnet = torchvision.models.resnet50(pretrained=True)  # pretrained ImageNet ResNet-50\n",
        "\n",
        "        # Remove linear and pool layers (since we're not doing classification)\n",
        "        modules = list(resnet.children())[:-2]\n",
        "        self.resnet = nn.Sequential(*modules)\n",
        "\n",
        "\n",
        "        # !!!!!!!!!!!!!! PLEASE DEFINE YOUR LAYER HERE !!!!!!!!!!!!!!!!!!! \n",
        "        self.conv1a = torch.nn.Conv2d(in_channels = 2048, out_channels = 64, kernel_size = 5, stride=1, padding='same', dilation=1, groups=1, bias=True, padding_mode='zeros', device=None, dtype=None)\n",
        "        self.conv2a = torch.nn.Conv2d(in_channels = 64, out_channels = 128, kernel_size = 5, stride=1, padding='same', dilation=1, groups=1, bias=True, padding_mode='zeros', device=None, dtype=None)\n",
        "        self.conv1b = torch.nn.Conv2d(in_channels = 2048, out_channels = 64, kernel_size = 3, stride=1, padding='same', dilation=1, groups=1, bias=True, padding_mode='zeros', device=None, dtype=None)\n",
        "        self.conv2b = torch.nn.Conv2d(in_channels = 64, out_channels = 128, kernel_size = 3, stride=1, padding='same', dilation=1, groups=1, bias=True, padding_mode='zeros', device=None, dtype=None)\n",
        "        self.conv3 = torch.nn.Conv2d(in_channels = 256, out_channels = 1024, kernel_size = 3, stride=1, padding='same', dilation=1, groups=1, bias=True, padding_mode='zeros', device=None, dtype=None)\n",
        "        self.conv4 = torch.nn.Conv2d(in_channels = 1024, out_channels = 512, kernel_size = 3, stride=1, padding='same', dilation=1, groups=1, bias=True, padding_mode='zeros', device=None, dtype=None)\n",
        "        self.conv5 = torch.nn.Conv2d(in_channels = 512, out_channels = 1024, kernel_size = 3, stride=1, padding='same', dilation=1, groups=1, bias=True, padding_mode='zeros', device=None, dtype=None)  \n",
        "        self.relu = torch.nn.ReLU(inplace=False)\n",
        "        self.maxpool = torch.nn.MaxPool2d(kernel_size = 3, stride=None, padding=0, dilation=1, return_indices=False, ceil_mode=False)\n",
        "        self.batchnorm1b = torch.nn.BatchNorm2d(num_features = 64, eps=1e-05, momentum=0.1, affine=True, track_running_stats=True, device=None, dtype=None)\n",
        "        self.batchnorm2b = torch.nn.BatchNorm2d(num_features = 128, eps=1e-05, momentum=0.1, affine=True, track_running_stats=True, device=None, dtype=None)\n",
        "        self.dropout5 = torch.nn.Dropout(0.5)\n",
        "        self.dropout3 = torch.nn.Dropout(0.4)\n",
        "        # !!!!!!!!!!!!!!                               !!!!!!!!!!!!!!!!!!! \n",
        "        # Resize image to fixed size to allow input images of variable size\n",
        "        self.adaptive_pool = nn.AdaptiveAvgPool2d((encoded_image_size, encoded_image_size))\n",
        "        self.fine_tune()\n",
        "\n",
        "    def forward(self, images):\n",
        "        \"\"\"\n",
        "        Forward propagation.\n",
        "        :param images: images, a tensor of dimensions (batch_size, 3, image_size, image_size)\n",
        "        :return: encoded images\n",
        "        \"\"\"\n",
        "        features = self.resnet(images)\n",
        "        # !!!!!!!!!!!!!! PLEASE IMPLEMENT THE FORWARD PROPAGATION HERE !!!!!!!!!!!!!!!!!!!\n",
        "        a_out = self.conv1a(features)\n",
        "        a_out = self.relu(a_out)\n",
        "        a_out = self.maxpool(a_out)\n",
        "        a_out = self.conv2a(a_out)\n",
        "        a_out = self.relu(a_out)\n",
        "        b_out = self.conv1b(features)\n",
        "        b_out= self.batchnorm1b(b_out)\n",
        "        b_out= self.maxpool(b_out)\n",
        "        b_out= self.conv2b(b_out)\n",
        "        b_out= self.batchnorm2b(b_out)\n",
        "        c_out= torch.cat((a_out, b_out), dim=1, out=None)\n",
        "        c_out = self.conv3(c_out)\n",
        "        d_out = self.dropout5(c_out)\n",
        "        d_out= self.conv4(d_out)\n",
        "        d_out= self.dropout3(d_out)\n",
        "        d_out= self.conv5(d_out)\n",
        "        out = torch.cat((c_out, d_out), dim=1, out=None)\n",
        "        out = self.relu(out)\n",
        "        # WHATEVER IS YOUR LAST LAYER, PLEASE CALL IT \"out\", SO IT CAN BE FED TO adaptive_pool below!!!!!\n",
        "        # !!!!!!!!!!!!!!                               !!!!!!!!!!!!!!!!!!! \n",
        "\n",
        "\n",
        "        out = self.adaptive_pool(out)  # (batch_size, 2048, encoded_image_size, encoded_image_size)\n",
        "        out = out.permute(0, 2, 3, 1)  # (batch_size, encoded_image_size, encoded_image_size, 2048)\n",
        "        return out\n",
        "\n",
        "    def fine_tune(self, fine_tune=True):\n",
        "        \"\"\"\n",
        "        Allow or prevent the computation of gradients for convolutional blocks 2 through 4 of the encoder.\n",
        "        :param fine_tune: Allow?\n",
        "        \"\"\"\n",
        "        for p in self.resnet.parameters():\n",
        "            p.requires_grad = False\n",
        "        # If fine-tuning, only fine-tune convolutional blocks 2 through 4\n",
        "        for c in list(self.resnet.children())[5:]:\n",
        "            for p in c.parameters():\n",
        "                p.requires_grad = fine_tune"
      ]
    },
    {
      "cell_type": "markdown",
      "metadata": {
        "id": "27alBUu_5Pow"
      },
      "source": [
        "Double check that yur implementation is correct"
      ]
    },
    {
      "cell_type": "code",
      "execution_count": 9,
      "metadata": {
        "colab": {
          "base_uri": "https://localhost:8080/",
          "height": 156,
          "referenced_widgets": [
            "0676549ad6e3499cb279b6af9190e122",
            "30f116b5739048788969b43a6a451412",
            "2fefbfab34494575b1a63b537d208464",
            "3ef98ada869946b4911f30867aac0ece",
            "cf9437bd2c6a44758bea1d354ae5d633",
            "7e9052bab7164b5b9f1c39a7a932163c",
            "b0132a4ebc50438d8fd69e77aae22c10",
            "63506c10a7364afd94b1d899fc26abc8",
            "89fb711e5a0641ffbbccfe4c5b9c4c06",
            "27392192272946abb6752ad552dd9f16",
            "b94986ce98714ef6bf4ca7bf59e1e831"
          ]
        },
        "id": "Jd0BXNuI_DrA",
        "outputId": "376a5003-972d-49db-b2d1-652d43f720db"
      },
      "outputs": [
        {
          "name": "stderr",
          "output_type": "stream",
          "text": [
            "/usr/local/lib/python3.8/dist-packages/torchvision/models/_utils.py:208: UserWarning: The parameter 'pretrained' is deprecated since 0.13 and may be removed in the future, please use 'weights' instead.\n",
            "  warnings.warn(\n",
            "/usr/local/lib/python3.8/dist-packages/torchvision/models/_utils.py:223: UserWarning: Arguments other than a weight enum or `None` for 'weights' are deprecated since 0.13 and may be removed in the future. The current behavior is equivalent to passing `weights=ResNet50_Weights.IMAGENET1K_V1`. You can also use `weights=ResNet50_Weights.DEFAULT` to get the most up-to-date weights.\n",
            "  warnings.warn(msg)\n",
            "Downloading: \"https://download.pytorch.org/models/resnet50-0676ba61.pth\" to /root/.cache/torch/hub/checkpoints/resnet50-0676ba61.pth\n"
          ]
        },
        {
          "data": {
            "application/vnd.jupyter.widget-view+json": {
              "model_id": "0676549ad6e3499cb279b6af9190e122",
              "version_major": 2,
              "version_minor": 0
            },
            "text/plain": [
              "  0%|          | 0.00/97.8M [00:00<?, ?B/s]"
            ]
          },
          "metadata": {},
          "output_type": "display_data"
        }
      ],
      "source": [
        "encoder = Encoder()"
      ]
    },
    {
      "cell_type": "markdown",
      "metadata": {
        "id": "u-8nam6s5TZ0"
      },
      "source": [
        "Expected output\n",
        "\n",
        "torch.Size([2, 14, 14, 2048])"
      ]
    },
    {
      "cell_type": "code",
      "execution_count": 10,
      "metadata": {
        "colab": {
          "base_uri": "https://localhost:8080/"
        },
        "id": "KreHfE8cJGSz",
        "outputId": "5c82e9eb-3bef-406a-9cae-9ff086a1250a"
      },
      "outputs": [
        {
          "data": {
            "text/plain": [
              "torch.Size([2, 14, 14, 2048])"
            ]
          },
          "execution_count": 10,
          "metadata": {},
          "output_type": "execute_result"
        }
      ],
      "source": [
        "out = encoder(torch.randn(2,3,224,224))\n",
        "out.shape"
      ]
    },
    {
      "cell_type": "code",
      "execution_count": 11,
      "metadata": {
        "colab": {
          "base_uri": "https://localhost:8080/"
        },
        "id": "2H5GZcQiIqvK",
        "outputId": "cd7c4251-22f4-4009-93d9-5f61edb6eac9"
      },
      "outputs": [
        {
          "name": "stdout",
          "output_type": "stream",
          "text": [
            "----------------------------------------------------------------\n",
            "        Layer (type)               Output Shape         Param #\n",
            "================================================================\n",
            "            Conv2d-1         [-1, 64, 112, 112]           9,408\n",
            "       BatchNorm2d-2         [-1, 64, 112, 112]             128\n",
            "              ReLU-3         [-1, 64, 112, 112]               0\n",
            "         MaxPool2d-4           [-1, 64, 56, 56]               0\n",
            "            Conv2d-5           [-1, 64, 56, 56]           4,096\n",
            "       BatchNorm2d-6           [-1, 64, 56, 56]             128\n",
            "              ReLU-7           [-1, 64, 56, 56]               0\n",
            "            Conv2d-8           [-1, 64, 56, 56]          36,864\n",
            "       BatchNorm2d-9           [-1, 64, 56, 56]             128\n",
            "             ReLU-10           [-1, 64, 56, 56]               0\n",
            "           Conv2d-11          [-1, 256, 56, 56]          16,384\n",
            "      BatchNorm2d-12          [-1, 256, 56, 56]             512\n",
            "           Conv2d-13          [-1, 256, 56, 56]          16,384\n",
            "      BatchNorm2d-14          [-1, 256, 56, 56]             512\n",
            "             ReLU-15          [-1, 256, 56, 56]               0\n",
            "       Bottleneck-16          [-1, 256, 56, 56]               0\n",
            "           Conv2d-17           [-1, 64, 56, 56]          16,384\n",
            "      BatchNorm2d-18           [-1, 64, 56, 56]             128\n",
            "             ReLU-19           [-1, 64, 56, 56]               0\n",
            "           Conv2d-20           [-1, 64, 56, 56]          36,864\n",
            "      BatchNorm2d-21           [-1, 64, 56, 56]             128\n",
            "             ReLU-22           [-1, 64, 56, 56]               0\n",
            "           Conv2d-23          [-1, 256, 56, 56]          16,384\n",
            "      BatchNorm2d-24          [-1, 256, 56, 56]             512\n",
            "             ReLU-25          [-1, 256, 56, 56]               0\n",
            "       Bottleneck-26          [-1, 256, 56, 56]               0\n",
            "           Conv2d-27           [-1, 64, 56, 56]          16,384\n",
            "      BatchNorm2d-28           [-1, 64, 56, 56]             128\n",
            "             ReLU-29           [-1, 64, 56, 56]               0\n",
            "           Conv2d-30           [-1, 64, 56, 56]          36,864\n",
            "      BatchNorm2d-31           [-1, 64, 56, 56]             128\n",
            "             ReLU-32           [-1, 64, 56, 56]               0\n",
            "           Conv2d-33          [-1, 256, 56, 56]          16,384\n",
            "      BatchNorm2d-34          [-1, 256, 56, 56]             512\n",
            "             ReLU-35          [-1, 256, 56, 56]               0\n",
            "       Bottleneck-36          [-1, 256, 56, 56]               0\n",
            "           Conv2d-37          [-1, 128, 56, 56]          32,768\n",
            "      BatchNorm2d-38          [-1, 128, 56, 56]             256\n",
            "             ReLU-39          [-1, 128, 56, 56]               0\n",
            "           Conv2d-40          [-1, 128, 28, 28]         147,456\n",
            "      BatchNorm2d-41          [-1, 128, 28, 28]             256\n",
            "             ReLU-42          [-1, 128, 28, 28]               0\n",
            "           Conv2d-43          [-1, 512, 28, 28]          65,536\n",
            "      BatchNorm2d-44          [-1, 512, 28, 28]           1,024\n",
            "           Conv2d-45          [-1, 512, 28, 28]         131,072\n",
            "      BatchNorm2d-46          [-1, 512, 28, 28]           1,024\n",
            "             ReLU-47          [-1, 512, 28, 28]               0\n",
            "       Bottleneck-48          [-1, 512, 28, 28]               0\n",
            "           Conv2d-49          [-1, 128, 28, 28]          65,536\n",
            "      BatchNorm2d-50          [-1, 128, 28, 28]             256\n",
            "             ReLU-51          [-1, 128, 28, 28]               0\n",
            "           Conv2d-52          [-1, 128, 28, 28]         147,456\n",
            "      BatchNorm2d-53          [-1, 128, 28, 28]             256\n",
            "             ReLU-54          [-1, 128, 28, 28]               0\n",
            "           Conv2d-55          [-1, 512, 28, 28]          65,536\n",
            "      BatchNorm2d-56          [-1, 512, 28, 28]           1,024\n",
            "             ReLU-57          [-1, 512, 28, 28]               0\n",
            "       Bottleneck-58          [-1, 512, 28, 28]               0\n",
            "           Conv2d-59          [-1, 128, 28, 28]          65,536\n",
            "      BatchNorm2d-60          [-1, 128, 28, 28]             256\n",
            "             ReLU-61          [-1, 128, 28, 28]               0\n",
            "           Conv2d-62          [-1, 128, 28, 28]         147,456\n",
            "      BatchNorm2d-63          [-1, 128, 28, 28]             256\n",
            "             ReLU-64          [-1, 128, 28, 28]               0\n",
            "           Conv2d-65          [-1, 512, 28, 28]          65,536\n",
            "      BatchNorm2d-66          [-1, 512, 28, 28]           1,024\n",
            "             ReLU-67          [-1, 512, 28, 28]               0\n",
            "       Bottleneck-68          [-1, 512, 28, 28]               0\n",
            "           Conv2d-69          [-1, 128, 28, 28]          65,536\n",
            "      BatchNorm2d-70          [-1, 128, 28, 28]             256\n",
            "             ReLU-71          [-1, 128, 28, 28]               0\n",
            "           Conv2d-72          [-1, 128, 28, 28]         147,456\n",
            "      BatchNorm2d-73          [-1, 128, 28, 28]             256\n",
            "             ReLU-74          [-1, 128, 28, 28]               0\n",
            "           Conv2d-75          [-1, 512, 28, 28]          65,536\n",
            "      BatchNorm2d-76          [-1, 512, 28, 28]           1,024\n",
            "             ReLU-77          [-1, 512, 28, 28]               0\n",
            "       Bottleneck-78          [-1, 512, 28, 28]               0\n",
            "           Conv2d-79          [-1, 256, 28, 28]         131,072\n",
            "      BatchNorm2d-80          [-1, 256, 28, 28]             512\n",
            "             ReLU-81          [-1, 256, 28, 28]               0\n",
            "           Conv2d-82          [-1, 256, 14, 14]         589,824\n",
            "      BatchNorm2d-83          [-1, 256, 14, 14]             512\n",
            "             ReLU-84          [-1, 256, 14, 14]               0\n",
            "           Conv2d-85         [-1, 1024, 14, 14]         262,144\n",
            "      BatchNorm2d-86         [-1, 1024, 14, 14]           2,048\n",
            "           Conv2d-87         [-1, 1024, 14, 14]         524,288\n",
            "      BatchNorm2d-88         [-1, 1024, 14, 14]           2,048\n",
            "             ReLU-89         [-1, 1024, 14, 14]               0\n",
            "       Bottleneck-90         [-1, 1024, 14, 14]               0\n",
            "           Conv2d-91          [-1, 256, 14, 14]         262,144\n",
            "      BatchNorm2d-92          [-1, 256, 14, 14]             512\n",
            "             ReLU-93          [-1, 256, 14, 14]               0\n",
            "           Conv2d-94          [-1, 256, 14, 14]         589,824\n",
            "      BatchNorm2d-95          [-1, 256, 14, 14]             512\n",
            "             ReLU-96          [-1, 256, 14, 14]               0\n",
            "           Conv2d-97         [-1, 1024, 14, 14]         262,144\n",
            "      BatchNorm2d-98         [-1, 1024, 14, 14]           2,048\n",
            "             ReLU-99         [-1, 1024, 14, 14]               0\n",
            "      Bottleneck-100         [-1, 1024, 14, 14]               0\n",
            "          Conv2d-101          [-1, 256, 14, 14]         262,144\n",
            "     BatchNorm2d-102          [-1, 256, 14, 14]             512\n",
            "            ReLU-103          [-1, 256, 14, 14]               0\n",
            "          Conv2d-104          [-1, 256, 14, 14]         589,824\n",
            "     BatchNorm2d-105          [-1, 256, 14, 14]             512\n",
            "            ReLU-106          [-1, 256, 14, 14]               0\n",
            "          Conv2d-107         [-1, 1024, 14, 14]         262,144\n",
            "     BatchNorm2d-108         [-1, 1024, 14, 14]           2,048\n",
            "            ReLU-109         [-1, 1024, 14, 14]               0\n",
            "      Bottleneck-110         [-1, 1024, 14, 14]               0\n",
            "          Conv2d-111          [-1, 256, 14, 14]         262,144\n",
            "     BatchNorm2d-112          [-1, 256, 14, 14]             512\n",
            "            ReLU-113          [-1, 256, 14, 14]               0\n",
            "          Conv2d-114          [-1, 256, 14, 14]         589,824\n",
            "     BatchNorm2d-115          [-1, 256, 14, 14]             512\n",
            "            ReLU-116          [-1, 256, 14, 14]               0\n",
            "          Conv2d-117         [-1, 1024, 14, 14]         262,144\n",
            "     BatchNorm2d-118         [-1, 1024, 14, 14]           2,048\n",
            "            ReLU-119         [-1, 1024, 14, 14]               0\n",
            "      Bottleneck-120         [-1, 1024, 14, 14]               0\n",
            "          Conv2d-121          [-1, 256, 14, 14]         262,144\n",
            "     BatchNorm2d-122          [-1, 256, 14, 14]             512\n",
            "            ReLU-123          [-1, 256, 14, 14]               0\n",
            "          Conv2d-124          [-1, 256, 14, 14]         589,824\n",
            "     BatchNorm2d-125          [-1, 256, 14, 14]             512\n",
            "            ReLU-126          [-1, 256, 14, 14]               0\n",
            "          Conv2d-127         [-1, 1024, 14, 14]         262,144\n",
            "     BatchNorm2d-128         [-1, 1024, 14, 14]           2,048\n",
            "            ReLU-129         [-1, 1024, 14, 14]               0\n",
            "      Bottleneck-130         [-1, 1024, 14, 14]               0\n",
            "          Conv2d-131          [-1, 256, 14, 14]         262,144\n",
            "     BatchNorm2d-132          [-1, 256, 14, 14]             512\n",
            "            ReLU-133          [-1, 256, 14, 14]               0\n",
            "          Conv2d-134          [-1, 256, 14, 14]         589,824\n",
            "     BatchNorm2d-135          [-1, 256, 14, 14]             512\n",
            "            ReLU-136          [-1, 256, 14, 14]               0\n",
            "          Conv2d-137         [-1, 1024, 14, 14]         262,144\n",
            "     BatchNorm2d-138         [-1, 1024, 14, 14]           2,048\n",
            "            ReLU-139         [-1, 1024, 14, 14]               0\n",
            "      Bottleneck-140         [-1, 1024, 14, 14]               0\n",
            "          Conv2d-141          [-1, 512, 14, 14]         524,288\n",
            "     BatchNorm2d-142          [-1, 512, 14, 14]           1,024\n",
            "            ReLU-143          [-1, 512, 14, 14]               0\n",
            "          Conv2d-144            [-1, 512, 7, 7]       2,359,296\n",
            "     BatchNorm2d-145            [-1, 512, 7, 7]           1,024\n",
            "            ReLU-146            [-1, 512, 7, 7]               0\n",
            "          Conv2d-147           [-1, 2048, 7, 7]       1,048,576\n",
            "     BatchNorm2d-148           [-1, 2048, 7, 7]           4,096\n",
            "          Conv2d-149           [-1, 2048, 7, 7]       2,097,152\n",
            "     BatchNorm2d-150           [-1, 2048, 7, 7]           4,096\n",
            "            ReLU-151           [-1, 2048, 7, 7]               0\n",
            "      Bottleneck-152           [-1, 2048, 7, 7]               0\n",
            "          Conv2d-153            [-1, 512, 7, 7]       1,048,576\n",
            "     BatchNorm2d-154            [-1, 512, 7, 7]           1,024\n",
            "            ReLU-155            [-1, 512, 7, 7]               0\n",
            "          Conv2d-156            [-1, 512, 7, 7]       2,359,296\n",
            "     BatchNorm2d-157            [-1, 512, 7, 7]           1,024\n",
            "            ReLU-158            [-1, 512, 7, 7]               0\n",
            "          Conv2d-159           [-1, 2048, 7, 7]       1,048,576\n",
            "     BatchNorm2d-160           [-1, 2048, 7, 7]           4,096\n",
            "            ReLU-161           [-1, 2048, 7, 7]               0\n",
            "      Bottleneck-162           [-1, 2048, 7, 7]               0\n",
            "          Conv2d-163            [-1, 512, 7, 7]       1,048,576\n",
            "     BatchNorm2d-164            [-1, 512, 7, 7]           1,024\n",
            "            ReLU-165            [-1, 512, 7, 7]               0\n",
            "          Conv2d-166            [-1, 512, 7, 7]       2,359,296\n",
            "     BatchNorm2d-167            [-1, 512, 7, 7]           1,024\n",
            "            ReLU-168            [-1, 512, 7, 7]               0\n",
            "          Conv2d-169           [-1, 2048, 7, 7]       1,048,576\n",
            "     BatchNorm2d-170           [-1, 2048, 7, 7]           4,096\n",
            "            ReLU-171           [-1, 2048, 7, 7]               0\n",
            "      Bottleneck-172           [-1, 2048, 7, 7]               0\n",
            "          Conv2d-173             [-1, 64, 7, 7]       3,276,864\n",
            "            ReLU-174             [-1, 64, 7, 7]               0\n",
            "       MaxPool2d-175             [-1, 64, 2, 2]               0\n",
            "          Conv2d-176            [-1, 128, 2, 2]         204,928\n",
            "            ReLU-177            [-1, 128, 2, 2]               0\n",
            "          Conv2d-178             [-1, 64, 7, 7]       1,179,712\n",
            "     BatchNorm2d-179             [-1, 64, 7, 7]             128\n",
            "       MaxPool2d-180             [-1, 64, 2, 2]               0\n",
            "          Conv2d-181            [-1, 128, 2, 2]          73,856\n",
            "     BatchNorm2d-182            [-1, 128, 2, 2]             256\n",
            "          Conv2d-183           [-1, 1024, 2, 2]       2,360,320\n",
            "         Dropout-184           [-1, 1024, 2, 2]               0\n",
            "          Conv2d-185            [-1, 512, 2, 2]       4,719,104\n",
            "         Dropout-186            [-1, 512, 2, 2]               0\n",
            "          Conv2d-187           [-1, 1024, 2, 2]       4,719,616\n",
            "            ReLU-188           [-1, 2048, 2, 2]               0\n",
            "AdaptiveAvgPool2d-189         [-1, 2048, 14, 14]               0\n",
            "================================================================\n",
            "Total params: 40,042,816\n",
            "Trainable params: 39,817,472\n",
            "Non-trainable params: 225,344\n",
            "----------------------------------------------------------------\n",
            "Input size (MB): 0.57\n",
            "Forward/backward pass size (MB): 289.90\n",
            "Params size (MB): 152.75\n",
            "Estimated Total Size (MB): 443.23\n",
            "----------------------------------------------------------------\n"
          ]
        }
      ],
      "source": [
        "from torchsummary import summary\n",
        "\n",
        "summary(encoder.cuda(), (3, 224, 224))"
      ]
    },
    {
      "cell_type": "markdown",
      "metadata": {
        "id": "ztDGl8r0mf2P"
      },
      "source": [
        "#### 3.2) Decoder with Attention\n",
        "The class Attention defines the attention network for our decoder. The class Decoder defines the decoder of our model which takes the encoded image and generates captions. \n"
      ]
    },
    {
      "cell_type": "code",
      "execution_count": 12,
      "metadata": {
        "id": "aFxXPq1anNqa"
      },
      "outputs": [],
      "source": [
        "#@title\n",
        "class Attention(nn.Module):\n",
        "    \"\"\"\n",
        "    Attention Network.\n",
        "    \"\"\"\n",
        "\n",
        "    def __init__(self, encoder_dim, decoder_dim, attention_dim):\n",
        "        \"\"\"\n",
        "        :param encoder_dim: feature size of encoded images\n",
        "        :param decoder_dim: size of decoder's RNN\n",
        "        :param attention_dim: size of the attention network\n",
        "        \"\"\"\n",
        "        super(Attention, self).__init__()\n",
        "        self.encoder_att = nn.Linear(encoder_dim, attention_dim)  # linear layer to transform encoded image\n",
        "        self.decoder_att = nn.Linear(decoder_dim, attention_dim)  # linear layer to transform decoder's output\n",
        "        self.full_att = nn.Linear(attention_dim, 1)  # linear layer to calculate values to be softmax-ed\n",
        "        self.relu = nn.ReLU()\n",
        "        self.softmax = nn.Softmax(dim=1)  # softmax layer to calculate weights\n",
        "\n",
        "    def forward(self, encoder_out, decoder_hidden):\n",
        "        \"\"\"\n",
        "        Forward propagation.\n",
        "        :param encoder_out: encoded images, a tensor of dimension (batch_size, num_pixels, encoder_dim)\n",
        "        :param decoder_hidden: previous decoder output, a tensor of dimension (batch_size, decoder_dim)\n",
        "        :return: attention weighted encoding, weights\n",
        "        \"\"\"\n",
        "        att1 = self.encoder_att(encoder_out)  # (batch_size, num_pixels, attention_dim)\n",
        "        att2 = self.decoder_att(decoder_hidden)  # (batch_size, attention_dim)\n",
        "        #confused about the squeeze and unsqueeze? Check this: https://i.stack.imgur.com/NiJu4.png\n",
        "        att = self.full_att(self.relu(att1 + att2.unsqueeze(1))).squeeze(2)  # (batch_size, num_pixels)\n",
        "        alpha = self.softmax(att)  # (batch_size, num_pixels)\n",
        "        attention_weighted_encoding = (encoder_out * alpha.unsqueeze(2)).sum(dim=1)  # (batch_size, encoder_dim)\n",
        "\n",
        "        return attention_weighted_encoding, alpha\n",
        "\n",
        "class DecoderWithAttention(nn.Module):\n",
        "    \"\"\"\n",
        "    Decoder.\n",
        "    \"\"\"\n",
        "\n",
        "    def __init__(self, attention_dim, embed_dim, decoder_dim, vocab_size, encoder_dim=2048, dropout=0.5):\n",
        "        \"\"\"\n",
        "        :param attention_dim: size of attention network\n",
        "        :param embed_dim: embedding size\n",
        "        :param decoder_dim: size of decoder's RNN\n",
        "        :param vocab_size: size of vocabulary\n",
        "        :param encoder_dim: feature size of encoded images\n",
        "        :param dropout: dropout\n",
        "        \"\"\"\n",
        "        super(DecoderWithAttention, self).__init__()\n",
        "\n",
        "        self.encoder_dim = encoder_dim\n",
        "        self.attention_dim = attention_dim\n",
        "        self.embed_dim = embed_dim\n",
        "        self.decoder_dim = decoder_dim\n",
        "        self.vocab_size = vocab_size\n",
        "        self.dropout = dropout\n",
        "\n",
        "        self.attention = Attention(encoder_dim, decoder_dim, attention_dim)  # attention network\n",
        "\n",
        "        self.embedding = nn.Embedding(vocab_size, embed_dim)  # embedding layer\n",
        "        self.dropout = nn.Dropout(p=self.dropout)\n",
        "        self.decode_step = nn.LSTMCell(embed_dim + encoder_dim, decoder_dim, bias=True)  # decoding LSTMCell\n",
        "        self.init_h = nn.Linear(encoder_dim, decoder_dim)  # linear layer to find initial hidden state of LSTMCell\n",
        "        self.init_c = nn.Linear(encoder_dim, decoder_dim)  # linear layer to find initial cell state of LSTMCell\n",
        "        self.f_beta = nn.Linear(decoder_dim, encoder_dim)  # linear layer to create a sigmoid-activated gate\n",
        "        self.sigmoid = nn.Sigmoid()\n",
        "        self.fc = nn.Linear(decoder_dim, vocab_size)  # linear layer to find scores over vocabulary\n",
        "        self.init_weights()  # initialize some layers with the uniform distribution\n",
        "\n",
        "    def init_weights(self):\n",
        "        \"\"\"\n",
        "        Initializes some parameters with values from the uniform distribution, for easier convergence.\n",
        "        \"\"\"\n",
        "        self.embedding.weight.data.uniform_(-0.1, 0.1)\n",
        "        self.fc.bias.data.fill_(0)\n",
        "        self.fc.weight.data.uniform_(-0.1, 0.1)\n",
        "\n",
        "    def load_pretrained_embeddings(self, embeddings):\n",
        "        \"\"\"\n",
        "        Loads embedding layer with pre-trained embeddings.\n",
        "        :param embeddings: pre-trained embeddings\n",
        "        \"\"\"\n",
        "        self.embedding.weight = nn.Parameter(embeddings)\n",
        "\n",
        "    def fine_tune_embeddings(self, fine_tune=True):\n",
        "        \"\"\"\n",
        "        Allow fine-tuning of embedding layer? (Only makes sense to not-allow if using pre-trained embeddings).\n",
        "        :param fine_tune: Allow?\n",
        "        \"\"\"\n",
        "        for p in self.embedding.parameters():\n",
        "            p.requires_grad = fine_tune\n",
        "\n",
        "    def init_hidden_state(self, encoder_out):\n",
        "        \"\"\"\n",
        "        Creates the initial hidden and cell states for the decoder's LSTM based on the encoded images.\n",
        "        :param encoder_out: encoded images, a tensor of dimension (batch_size, num_pixels, encoder_dim)\n",
        "        :return: hidden state, cell state\n",
        "        \"\"\"\n",
        "        mean_encoder_out = encoder_out.mean(dim=1)\n",
        "        h = self.init_h(mean_encoder_out)  # (batch_size, decoder_dim)\n",
        "        c = self.init_c(mean_encoder_out)\n",
        "        return h, c\n",
        "\n",
        "    def forward(self, encoder_out, encoded_captions, caption_lengths):\n",
        "        \"\"\"\n",
        "        Forward propagation.\n",
        "        :param encoder_out: encoded images, a tensor of dimension (batch_size, enc_image_size, enc_image_size, encoder_dim)\n",
        "        :param encoded_captions: encoded captions, a tensor of dimension (batch_size, max_caption_length)\n",
        "        :param caption_lengths: caption lengths, a tensor of dimension (batch_size, 1)\n",
        "        :return: scores for vocabulary, sorted encoded captions, decode lengths, weights, sort indices\n",
        "        \"\"\"\n",
        "\n",
        "        batch_size = encoder_out.size(0)\n",
        "        encoder_dim = encoder_out.size(-1)\n",
        "        vocab_size = self.vocab_size\n",
        "\n",
        "        # Flatten image\n",
        "        encoder_out = encoder_out.view(batch_size, -1, encoder_dim)  # (batch_size, num_pixels, encoder_dim)\n",
        "        num_pixels = encoder_out.size(1)\n",
        "\n",
        "        # Sort input data by decreasing lengths; why? apparent below\n",
        "        caption_lengths, sort_ind = caption_lengths.squeeze(1).sort(dim=0, descending=True)\n",
        "        encoder_out = encoder_out[sort_ind]\n",
        "        encoded_captions = encoded_captions[sort_ind]\n",
        "\n",
        "        # Embedding\n",
        "        embeddings = self.embedding(encoded_captions)  # (batch_size, max_caption_length, embed_dim)\n",
        "\n",
        "        # Initialize LSTM state\n",
        "        h, c = self.init_hidden_state(encoder_out)  # (batch_size, decoder_dim)\n",
        "\n",
        "        # We won't decode at the <end> position, since we've finished generating as soon as we generate <end>\n",
        "        # So, decoding lengths are actual lengths - 1\n",
        "        decode_lengths = (caption_lengths - 1).tolist()\n",
        "\n",
        "        # Create tensors to hold word predicion scores and alphas\n",
        "        predictions = torch.zeros(batch_size, max(decode_lengths), vocab_size).to(device)\n",
        "        alphas = torch.zeros(batch_size, max(decode_lengths), num_pixels).to(device)\n",
        "\n",
        "        # At each time-step, decode by\n",
        "        # attention-weighing the encoder's output based on the decoder's previous hidden state output\n",
        "        # then generate a new word in the decoder with the previous word and the attention weighted encoding\n",
        "        for t in range(max(decode_lengths)):\n",
        "            batch_size_t = sum([l > t for l in decode_lengths])\n",
        "            attention_weighted_encoding, alpha = self.attention(encoder_out[:batch_size_t],\n",
        "                                                                h[:batch_size_t])\n",
        "            gate = self.sigmoid(self.f_beta(h[:batch_size_t]))  # gating scalar, (batch_size_t, encoder_dim)\n",
        "            attention_weighted_encoding = gate * attention_weighted_encoding\n",
        "            h, c = self.decode_step(\n",
        "                torch.cat([embeddings[:batch_size_t, t, :], attention_weighted_encoding], dim=1),\n",
        "                (h[:batch_size_t], c[:batch_size_t]))  # (batch_size_t, decoder_dim)\n",
        "            preds = self.fc(self.dropout(h))  # (batch_size_t, vocab_size)\n",
        "            predictions[:batch_size_t, t, :] = preds\n",
        "            alphas[:batch_size_t, t, :] = alpha\n",
        "\n",
        "        return predictions, encoded_captions, decode_lengths, alphas, sort_ind"
      ]
    },
    {
      "cell_type": "markdown",
      "metadata": {
        "id": "-q30U793o1Vr"
      },
      "source": [
        "#### **3.3) Set hyperparameters for the model**"
      ]
    },
    {
      "cell_type": "code",
      "execution_count": 13,
      "metadata": {
        "id": "4l3Gh87wo-Sn"
      },
      "outputs": [],
      "source": [
        "# Model parameters\n",
        "emb_dim = 512  # dimension of word embeddings\n",
        "attention_dim = 512  # dimension of attention linear layers\n",
        "decoder_dim = 512  # dimension of decoder RNN\n",
        "dropout = 0.4 #dropout for regularization\n",
        "\n",
        "device = torch.device(\"cuda\" if torch.cuda.is_available() else \"cpu\")  # sets device for model and PyTorch tensors\n",
        "cudnn.benchmark = True  # set to true only if inputs to model are fixed size; otherwise lot of computational overhead"
      ]
    },
    {
      "cell_type": "markdown",
      "metadata": {
        "id": "VgNpxIykpt5V"
      },
      "source": [
        "## 4. Training\n",
        "Here you have to train the model. Please specify the word_map_file location (the vocabulary which is together with the given dataset). \n",
        "The training and validation script are already defined.\n",
        "\n",
        "**Setup the hyperparameters for the optimization on the cell 4.1**"
      ]
    },
    {
      "cell_type": "code",
      "execution_count": 14,
      "metadata": {
        "id": "Cq-sLKFUqm-_"
      },
      "outputs": [],
      "source": [
        "#@title\n",
        "global best_bleu4, epochs_since_improvement, checkpoint, start_epoch, fine_tune_encoder, data_name, word_map"
      ]
    },
    {
      "cell_type": "markdown",
      "metadata": {
        "id": "F--JJpjEq_dv"
      },
      "source": [
        "#### **4.1) Setup optimization hyperparameters**"
      ]
    },
    {
      "cell_type": "code",
      "execution_count": 15,
      "metadata": {
        "id": "jmXYs1G3rECt"
      },
      "outputs": [],
      "source": [
        "# Training parameters\n",
        "start_epoch = 0\n",
        "epochs = 3 \n",
        "epochs_since_improvement = 0  \n",
        "batch_size = 16 \n",
        "workers = 0  \n",
        "encoder_lr = 0.000006 \n",
        "decoder_lr = 0.0006 \n",
        "grad_clip = 5.  \n",
        "alpha_c = 1.  \n",
        "best_bleu4 = 0.  \n",
        "print_freq = 100  \n",
        "fine_tune_encoder = True \n",
        "checkpoint = None "
      ]
    },
    {
      "cell_type": "markdown",
      "metadata": {
        "id": "v6i4uQvu0m5y"
      },
      "source": [
        "#### 4.2) Dataloaders"
      ]
    },
    {
      "cell_type": "code",
      "execution_count": 16,
      "metadata": {
        "id": "zoABDZtIpxcZ"
      },
      "outputs": [],
      "source": [
        "#@title\n",
        "# Read word map\n",
        "word_map_file = os.path.join(data_folder, 'WORDMAP_' + data_name + '.json')\n",
        "with open(word_map_file, 'r') as j:\n",
        "    word_map = json.load(j)\n",
        "    \n",
        "\n",
        "    \n",
        "# Custom dataloaders\n",
        "normalize = transforms.Normalize(mean=[0.485, 0.456, 0.406],\n",
        "                                 std=[0.229, 0.224, 0.225])\n",
        "train_loader = torch.utils.data.DataLoader(\n",
        "    CaptionDataset(data_folder, data_name, 'TRAIN', transform=transforms.Compose([normalize])),\n",
        "    batch_size=batch_size, shuffle=True, num_workers=workers, pin_memory=True)\n",
        "val_loader = torch.utils.data.DataLoader(\n",
        "    CaptionDataset(data_folder, data_name, 'VAL', transform=transforms.Compose([normalize])),\n",
        "    batch_size=batch_size, shuffle=True, num_workers=workers, pin_memory=True)"
      ]
    },
    {
      "cell_type": "code",
      "execution_count": 17,
      "metadata": {
        "id": "vstMkwtOVnW4"
      },
      "outputs": [],
      "source": [
        "def to_device(data, device):\n",
        "    if isinstance(data, (list,tuple)):\n",
        "        return [to_device(x, device) for x in data]\n",
        "    return data.to(device, non_blocking=True)"
      ]
    },
    {
      "cell_type": "code",
      "execution_count": 18,
      "metadata": {
        "id": "74oik3YmVrbB"
      },
      "outputs": [],
      "source": [
        "class DataloaderWrap():\n",
        "    def __init__(self, dl, device):\n",
        "        self.dl = dl\n",
        "        self.device = device\n",
        "        \n",
        "    def __iter__(self):\n",
        "        for b in self.dl: \n",
        "            yield to_device(b, self.device)\n",
        "\n",
        "    def __len__(self):\n",
        "        return len(self.dl)"
      ]
    },
    {
      "cell_type": "code",
      "execution_count": 19,
      "metadata": {
        "id": "v6nudREkVzNj"
      },
      "outputs": [],
      "source": [
        "train_loader = DataloaderWrap(train_loader, device)\n",
        "val_loader = DataloaderWrap(val_loader, device)"
      ]
    },
    {
      "cell_type": "markdown",
      "metadata": {
        "id": "ucRB1vbYqszj"
      },
      "source": [
        "#### 4.3) You can change the checkpoint parameter on the code cell 4.1 in case you interrupted your training and would like to train from a previous checkpoint."
      ]
    },
    {
      "cell_type": "code",
      "execution_count": 20,
      "metadata": {
        "id": "28rAG8hxqrfR"
      },
      "outputs": [],
      "source": [
        "#@title\n",
        "# Initialize / load checkpoint\n",
        "if checkpoint is None:\n",
        "    decoder = DecoderWithAttention(attention_dim=attention_dim,\n",
        "                                   embed_dim=emb_dim,\n",
        "                                   decoder_dim=decoder_dim,\n",
        "                                   vocab_size=len(word_map),\n",
        "                                   dropout=dropout)\n",
        "    decoder_optimizer = torch.optim.Adam(params=filter(lambda p: p.requires_grad, decoder.parameters()),\n",
        "                                         lr=decoder_lr)\n",
        "    encoder = Encoder()\n",
        "    encoder.fine_tune(fine_tune_encoder)\n",
        "    encoder_optimizer = torch.optim.Adam(params=filter(lambda p: p.requires_grad, encoder.parameters()),\n",
        "                                         lr=encoder_lr) if fine_tune_encoder else None\n",
        "\n",
        "else:\n",
        "    checkpoint = torch.load(checkpoint)\n",
        "    start_epoch = checkpoint['epoch'] + 1\n",
        "    epochs_since_improvement = checkpoint['epochs_since_improvement']\n",
        "    best_bleu4 = checkpoint['bleu-4']\n",
        "    decoder = checkpoint['decoder']\n",
        "    decoder_optimizer = checkpoint['decoder_optimizer']\n",
        "    encoder = checkpoint['encoder']\n",
        "    encoder_optimizer = checkpoint['encoder_optimizer']\n",
        "    if fine_tune_encoder is True and encoder_optimizer is None:\n",
        "        encoder.fine_tune(fine_tune_encoder)\n",
        "        encoder_optimizer = torch.optim.Adam(params=filter(lambda p: p.requires_grad, encoder.parameters()),\n",
        "                                             lr=encoder_lr)\n",
        "# Move to GPU, if available\n",
        "decoder = decoder.to(device)\n",
        "encoder = encoder.to(device)\n",
        "\n",
        "# Loss function\n",
        "criterion = nn.CrossEntropyLoss().to(device)"
      ]
    },
    {
      "cell_type": "markdown",
      "metadata": {
        "id": "MAmRIeh5rID4"
      },
      "source": [
        "#### 4.4) Training and validation script"
      ]
    },
    {
      "cell_type": "code",
      "execution_count": 21,
      "metadata": {
        "id": "s1MY-AHprKCw"
      },
      "outputs": [],
      "source": [
        "#@title\n",
        "def train(train_loader, encoder, decoder, criterion, encoder_optimizer, decoder_optimizer, epoch):\n",
        "    \"\"\"\n",
        "    Performs one epoch's training.\n",
        "    :param train_loader: DataLoader for training data\n",
        "    :param encoder: encoder model\n",
        "    :param decoder: decoder model\n",
        "    :param criterion: loss layer\n",
        "    :param encoder_optimizer: optimizer to update encoder's weights (if fine-tuning)\n",
        "    :param decoder_optimizer: optimizer to update decoder's weights\n",
        "    :param epoch: epoch number\n",
        "    \"\"\"\n",
        "\n",
        "    decoder.train()  # train mode (dropout and batchnorm is used)\n",
        "    encoder.train()\n",
        "\n",
        "    batch_time = AverageMeter()  # forward prop. + back prop. time\n",
        "    data_time = AverageMeter()  # data loading time\n",
        "    losses = AverageMeter()  # loss (per word decoded)\n",
        "    top5accs = AverageMeter()  # top5 accuracy\n",
        "\n",
        "    start = time.time()\n",
        "\n",
        "    # Batches\n",
        "    for i, (imgs, caps, caplens) in enumerate(train_loader):\n",
        "        data_time.update(time.time() - start)\n",
        "\n",
        "        # Move to GPU, if available\n",
        "        imgs = imgs.to(device)\n",
        "        caps = caps.to(device)\n",
        "        caplens = caplens.to(device)\n",
        "\n",
        "        # Forward prop.\n",
        "        imgs = encoder(imgs)\n",
        "        scores, caps_sorted, decode_lengths, alphas, sort_ind = decoder(imgs, caps, caplens)\n",
        "\n",
        "        # Since we decoded starting with <start>, the targets are all words after <start>, up to <end>\n",
        "        targets = caps_sorted[:, 1:]\n",
        "\n",
        "        # Remove timesteps that we didn't decode at, or are pads\n",
        "        # pack_padded_sequence is an easy trick to do this\n",
        "        scores, *_ = pack_padded_sequence(scores, decode_lengths, batch_first=True)\n",
        "        targets, *_ = pack_padded_sequence(targets, decode_lengths, batch_first=True)\n",
        "\n",
        "        # Calculate loss\n",
        "        loss = criterion(scores, targets)\n",
        "\n",
        "        # Add doubly stochastic attention regularization\n",
        "        loss += alpha_c * ((1. - alphas.sum(dim=1)) ** 2).mean()\n",
        "\n",
        "        # Back prop.\n",
        "        decoder_optimizer.zero_grad()\n",
        "        if encoder_optimizer is not None:\n",
        "            encoder_optimizer.zero_grad()\n",
        "        loss.backward()\n",
        "\n",
        "        # Clip gradients\n",
        "        if grad_clip is not None:\n",
        "            clip_gradient(decoder_optimizer, grad_clip)\n",
        "            if encoder_optimizer is not None:\n",
        "                clip_gradient(encoder_optimizer, grad_clip)\n",
        "\n",
        "        # Update weights\n",
        "        decoder_optimizer.step()\n",
        "        if encoder_optimizer is not None:\n",
        "            encoder_optimizer.step()\n",
        "\n",
        "        # Keep track of metrics\n",
        "        top5 = accuracy(scores, targets, 5)\n",
        "        losses.update(loss.item(), sum(decode_lengths))\n",
        "        top5accs.update(top5, sum(decode_lengths))\n",
        "        batch_time.update(time.time() - start)\n",
        "\n",
        "        start = time.time()\n",
        "\n",
        "        # Print status\n",
        "        if i % print_freq == 0:\n",
        "            print('Epoch: [{0}][{1}/{2}]\\t'\n",
        "                  'Batch Time {batch_time.val:.3f} ({batch_time.avg:.3f})\\t'\n",
        "                  'Data Load Time {data_time.val:.3f} ({data_time.avg:.3f})\\t'\n",
        "                  'Loss {loss.val:.4f} ({loss.avg:.4f})\\t'\n",
        "                  'Top-5 Accuracy {top5.val:.3f} ({top5.avg:.3f})'.format(epoch, i, len(train_loader),\n",
        "                                                                          batch_time=batch_time,\n",
        "                                                                          data_time=data_time, loss=losses,\n",
        "                                                                          top5=top5accs))\n",
        "\n",
        "\n",
        "def validate(val_loader, encoder, decoder, criterion):\n",
        "    \"\"\"\n",
        "    Performs one epoch's validation.\n",
        "    :param val_loader: DataLoader for validation data.\n",
        "    :param encoder: encoder model\n",
        "    :param decoder: decoder model\n",
        "    :param criterion: loss layer\n",
        "    :return: BLEU-4 score\n",
        "    \"\"\"\n",
        "    decoder.eval()  # eval mode (no dropout or batchnorm)\n",
        "    if encoder is not None:\n",
        "        encoder.eval()\n",
        "\n",
        "    batch_time = AverageMeter()\n",
        "    losses = AverageMeter()\n",
        "    top5accs = AverageMeter()\n",
        "\n",
        "    start = time.time()\n",
        "\n",
        "    references = list()  # references (true captions) for calculating BLEU-4 score\n",
        "    hypotheses = list()  # hypotheses (predictions)\n",
        "\n",
        "    # explicitly disable gradient calculation to avoid CUDA memory error\n",
        "    # solves the issue #57\n",
        "    with torch.no_grad():\n",
        "        # Batches\n",
        "        for i, (imgs, caps, caplens, allcaps) in enumerate(val_loader):\n",
        "\n",
        "            # Move to device, if available\n",
        "            imgs = imgs.to(device)\n",
        "            caps = caps.to(device)\n",
        "            caplens = caplens.to(device)\n",
        "\n",
        "            # Forward prop.\n",
        "            if encoder is not None:\n",
        "                imgs = encoder(imgs)\n",
        "            scores, caps_sorted, decode_lengths, alphas, sort_ind = decoder(imgs, caps, caplens)\n",
        "\n",
        "            # Since we decoded starting with <start>, the targets are all words after <start>, up to <end>\n",
        "            targets = caps_sorted[:, 1:]\n",
        "\n",
        "            # Remove timesteps that we didn't decode at, or are pads\n",
        "            # pack_padded_sequence is an easy trick to do this\n",
        "            scores_copy = scores.clone()\n",
        "            scores, *_ = pack_padded_sequence(scores, decode_lengths, batch_first=True)\n",
        "            targets, *_ = pack_padded_sequence(targets, decode_lengths, batch_first=True)\n",
        "\n",
        "            # Calculate loss\n",
        "            loss = criterion(scores, targets)\n",
        "\n",
        "            # Add doubly stochastic attention regularization\n",
        "            loss += alpha_c * ((1. - alphas.sum(dim=1)) ** 2).mean()\n",
        "\n",
        "            # Keep track of metrics\n",
        "            losses.update(loss.item(), sum(decode_lengths))\n",
        "            top5 = accuracy(scores, targets, 5)\n",
        "            top5accs.update(top5, sum(decode_lengths))\n",
        "            batch_time.update(time.time() - start)\n",
        "\n",
        "            start = time.time()\n",
        "\n",
        "            if i % print_freq == 0:\n",
        "                print('Validation: [{0}/{1}]\\t'\n",
        "                      'Batch Time {batch_time.val:.3f} ({batch_time.avg:.3f})\\t'\n",
        "                      'Loss {loss.val:.4f} ({loss.avg:.4f})\\t'\n",
        "                      'Top-5 Accuracy {top5.val:.3f} ({top5.avg:.3f})\\t'.format(i, len(val_loader), batch_time=batch_time,\n",
        "                                                                                loss=losses, top5=top5accs))\n",
        "\n",
        "            # Store references (true captions), and hypothesis (prediction) for each image\n",
        "            # If for n images, we have n hypotheses, and references a, b, c... for each image, we need -\n",
        "            # references = [[ref1a, ref1b, ref1c], [ref2a, ref2b], ...], hypotheses = [hyp1, hyp2, ...]\n",
        "\n",
        "            # References\n",
        "            allcaps = allcaps[sort_ind]  # because images were sorted in the decoder\n",
        "            for j in range(allcaps.shape[0]):\n",
        "                img_caps = allcaps[j].tolist()\n",
        "                img_captions = list(\n",
        "                    map(lambda c: [w for w in c if w not in {word_map['<start>'], word_map['<pad>']}],\n",
        "                        img_caps))  # remove <start> and pads\n",
        "                references.append(img_captions)\n",
        "\n",
        "            # Hypotheses\n",
        "            _, preds = torch.max(scores_copy, dim=2)\n",
        "            preds = preds.tolist()\n",
        "            temp_preds = list()\n",
        "            for j, p in enumerate(preds):\n",
        "                temp_preds.append(preds[j][:decode_lengths[j]])  # remove pads\n",
        "            preds = temp_preds\n",
        "            hypotheses.extend(preds)\n",
        "\n",
        "            assert len(references) == len(hypotheses)\n",
        "\n",
        "        # Calculate BLEU-4 scores\n",
        "        bleu4 = corpus_bleu(references, hypotheses)\n",
        "\n",
        "        print(\n",
        "            '\\n * LOSS - {loss.avg:.3f}, TOP-5 ACCURACY - {top5.avg:.3f}, BLEU-4 - {bleu}\\n'.format(\n",
        "                loss=losses,\n",
        "                top5=top5accs,\n",
        "                bleu=bleu4))\n",
        "\n",
        "    return bleu4"
      ]
    },
    {
      "cell_type": "markdown",
      "metadata": {
        "id": "6Z5I7VeQxQXd"
      },
      "source": [
        "Train your model"
      ]
    },
    {
      "cell_type": "code",
      "execution_count": 22,
      "metadata": {
        "colab": {
          "base_uri": "https://localhost:8080/"
        },
        "id": "Q9HF9m0ixP1V",
        "outputId": "4b70d3cc-9111-43ca-d192-015a06dfcd28"
      },
      "outputs": [
        {
          "name": "stdout",
          "output_type": "stream",
          "text": [
            "Epoch: [0][0/1563]\tBatch Time 2.430 (2.430)\tData Load Time 0.049 (0.049)\tLoss 10.0486 (10.0486)\tTop-5 Accuracy 0.000 (0.000)\n",
            "Epoch: [0][100/1563]\tBatch Time 0.341 (0.366)\tData Load Time 0.025 (0.027)\tLoss 5.9062 (6.6417)\tTop-5 Accuracy 40.556 (34.135)\n",
            "Epoch: [0][200/1563]\tBatch Time 0.343 (0.359)\tData Load Time 0.026 (0.026)\tLoss 5.3687 (6.1924)\tTop-5 Accuracy 48.352 (38.047)\n",
            "Epoch: [0][300/1563]\tBatch Time 0.337 (0.355)\tData Load Time 0.025 (0.026)\tLoss 4.9589 (5.9240)\tTop-5 Accuracy 43.575 (40.878)\n",
            "Epoch: [0][400/1563]\tBatch Time 0.348 (0.353)\tData Load Time 0.026 (0.026)\tLoss 5.5140 (5.7424)\tTop-5 Accuracy 46.739 (42.875)\n",
            "Epoch: [0][500/1563]\tBatch Time 0.348 (0.352)\tData Load Time 0.026 (0.026)\tLoss 4.7823 (5.6013)\tTop-5 Accuracy 59.116 (44.589)\n",
            "Epoch: [0][600/1563]\tBatch Time 0.333 (0.351)\tData Load Time 0.025 (0.026)\tLoss 4.5302 (5.4864)\tTop-5 Accuracy 56.140 (45.978)\n",
            "Epoch: [0][700/1563]\tBatch Time 0.350 (0.351)\tData Load Time 0.025 (0.026)\tLoss 4.5172 (5.3854)\tTop-5 Accuracy 58.289 (47.203)\n",
            "Epoch: [0][800/1563]\tBatch Time 0.344 (0.351)\tData Load Time 0.027 (0.026)\tLoss 4.2510 (5.3019)\tTop-5 Accuracy 62.570 (48.241)\n",
            "Epoch: [0][900/1563]\tBatch Time 0.361 (0.350)\tData Load Time 0.028 (0.026)\tLoss 4.5558 (5.2334)\tTop-5 Accuracy 59.459 (49.082)\n",
            "Epoch: [0][1000/1563]\tBatch Time 0.345 (0.350)\tData Load Time 0.025 (0.026)\tLoss 4.1124 (5.1734)\tTop-5 Accuracy 65.143 (49.909)\n",
            "Epoch: [0][1100/1563]\tBatch Time 0.346 (0.350)\tData Load Time 0.025 (0.026)\tLoss 4.3082 (5.1119)\tTop-5 Accuracy 61.453 (50.702)\n",
            "Epoch: [0][1200/1563]\tBatch Time 0.345 (0.349)\tData Load Time 0.025 (0.026)\tLoss 4.9026 (5.0644)\tTop-5 Accuracy 51.685 (51.319)\n",
            "Epoch: [0][1300/1563]\tBatch Time 0.364 (0.349)\tData Load Time 0.025 (0.026)\tLoss 4.3222 (5.0163)\tTop-5 Accuracy 55.155 (51.952)\n",
            "Epoch: [0][1400/1563]\tBatch Time 0.342 (0.349)\tData Load Time 0.024 (0.026)\tLoss 4.6873 (4.9724)\tTop-5 Accuracy 57.219 (52.551)\n",
            "Epoch: [0][1500/1563]\tBatch Time 0.333 (0.349)\tData Load Time 0.025 (0.026)\tLoss 4.1730 (4.9340)\tTop-5 Accuracy 62.857 (53.066)\n",
            "Validation: [0/313]\tBatch Time 0.132 (0.132)\tLoss 4.4499 (4.4499)\tTop-5 Accuracy 57.921 (57.921)\t\n",
            "Validation: [100/313]\tBatch Time 0.125 (0.128)\tLoss 3.8214 (4.2474)\tTop-5 Accuracy 66.477 (61.525)\t\n",
            "Validation: [200/313]\tBatch Time 0.123 (0.129)\tLoss 4.1635 (4.2538)\tTop-5 Accuracy 63.095 (61.589)\t\n",
            "Validation: [300/313]\tBatch Time 0.125 (0.129)\tLoss 4.2138 (4.2673)\tTop-5 Accuracy 64.368 (61.552)\t\n",
            "\n",
            " * LOSS - 4.267, TOP-5 ACCURACY - 61.550, BLEU-4 - 0.1108410161616831\n",
            "\n",
            "Epoch: [1][0/1563]\tBatch Time 0.424 (0.424)\tData Load Time 0.027 (0.027)\tLoss 3.7906 (3.7906)\tTop-5 Accuracy 65.922 (65.922)\n",
            "Epoch: [1][100/1563]\tBatch Time 0.345 (0.350)\tData Load Time 0.026 (0.026)\tLoss 4.3941 (4.1758)\tTop-5 Accuracy 58.564 (62.003)\n",
            "Epoch: [1][200/1563]\tBatch Time 0.349 (0.349)\tData Load Time 0.025 (0.026)\tLoss 3.7277 (4.1559)\tTop-5 Accuracy 70.053 (62.610)\n",
            "Epoch: [1][300/1563]\tBatch Time 0.335 (0.347)\tData Load Time 0.024 (0.026)\tLoss 4.2555 (4.1699)\tTop-5 Accuracy 63.636 (62.476)\n",
            "Epoch: [1][400/1563]\tBatch Time 0.344 (0.347)\tData Load Time 0.025 (0.026)\tLoss 3.9686 (4.1655)\tTop-5 Accuracy 59.116 (62.607)\n",
            "Epoch: [1][500/1563]\tBatch Time 0.337 (0.347)\tData Load Time 0.024 (0.026)\tLoss 3.9162 (4.1564)\tTop-5 Accuracy 67.956 (62.683)\n",
            "Epoch: [1][600/1563]\tBatch Time 0.344 (0.347)\tData Load Time 0.024 (0.026)\tLoss 3.7461 (4.1446)\tTop-5 Accuracy 65.946 (62.888)\n",
            "Epoch: [1][700/1563]\tBatch Time 0.347 (0.347)\tData Load Time 0.025 (0.026)\tLoss 3.9423 (4.1350)\tTop-5 Accuracy 64.324 (63.020)\n",
            "Epoch: [1][800/1563]\tBatch Time 0.347 (0.347)\tData Load Time 0.024 (0.026)\tLoss 4.2400 (4.1237)\tTop-5 Accuracy 60.526 (63.211)\n",
            "Epoch: [1][900/1563]\tBatch Time 0.332 (0.347)\tData Load Time 0.025 (0.026)\tLoss 4.1717 (4.1074)\tTop-5 Accuracy 62.428 (63.458)\n",
            "Epoch: [1][1000/1563]\tBatch Time 0.334 (0.347)\tData Load Time 0.026 (0.026)\tLoss 3.8051 (4.1003)\tTop-5 Accuracy 68.391 (63.571)\n",
            "Epoch: [1][1100/1563]\tBatch Time 0.349 (0.346)\tData Load Time 0.025 (0.025)\tLoss 3.9232 (4.0931)\tTop-5 Accuracy 63.830 (63.677)\n",
            "Epoch: [1][1200/1563]\tBatch Time 0.358 (0.346)\tData Load Time 0.027 (0.025)\tLoss 4.0542 (4.0848)\tTop-5 Accuracy 67.568 (63.840)\n",
            "Epoch: [1][1300/1563]\tBatch Time 0.340 (0.346)\tData Load Time 0.024 (0.025)\tLoss 4.1119 (4.0745)\tTop-5 Accuracy 62.500 (63.979)\n",
            "Epoch: [1][1400/1563]\tBatch Time 0.337 (0.346)\tData Load Time 0.027 (0.025)\tLoss 4.0272 (4.0698)\tTop-5 Accuracy 62.644 (64.023)\n",
            "Epoch: [1][1500/1563]\tBatch Time 0.357 (0.346)\tData Load Time 0.025 (0.025)\tLoss 4.1527 (4.0641)\tTop-5 Accuracy 64.141 (64.118)\n",
            "Validation: [0/313]\tBatch Time 0.127 (0.127)\tLoss 4.2090 (4.2090)\tTop-5 Accuracy 60.894 (60.894)\t\n",
            "Validation: [100/313]\tBatch Time 0.138 (0.127)\tLoss 4.2789 (4.0113)\tTop-5 Accuracy 63.033 (65.195)\t\n",
            "Validation: [200/313]\tBatch Time 0.127 (0.127)\tLoss 3.7725 (4.0025)\tTop-5 Accuracy 70.556 (65.632)\t\n",
            "Validation: [300/313]\tBatch Time 0.123 (0.127)\tLoss 3.8674 (3.9936)\tTop-5 Accuracy 68.539 (65.609)\t\n",
            "\n",
            " * LOSS - 3.993, TOP-5 ACCURACY - 65.608, BLEU-4 - 0.13580055845795586\n",
            "\n",
            "Epoch: [2][0/1563]\tBatch Time 0.412 (0.412)\tData Load Time 0.027 (0.027)\tLoss 4.1490 (4.1490)\tTop-5 Accuracy 62.295 (62.295)\n",
            "Epoch: [2][100/1563]\tBatch Time 0.334 (0.347)\tData Load Time 0.025 (0.025)\tLoss 3.8582 (3.7544)\tTop-5 Accuracy 66.667 (67.991)\n",
            "Epoch: [2][200/1563]\tBatch Time 0.363 (0.346)\tData Load Time 0.026 (0.025)\tLoss 3.7033 (3.7579)\tTop-5 Accuracy 67.150 (67.963)\n",
            "Epoch: [2][300/1563]\tBatch Time 0.333 (0.346)\tData Load Time 0.025 (0.025)\tLoss 4.2616 (3.7580)\tTop-5 Accuracy 58.480 (67.828)\n",
            "Epoch: [2][400/1563]\tBatch Time 0.341 (0.346)\tData Load Time 0.025 (0.025)\tLoss 3.6161 (3.7523)\tTop-5 Accuracy 67.725 (67.888)\n",
            "Epoch: [2][500/1563]\tBatch Time 0.337 (0.346)\tData Load Time 0.024 (0.025)\tLoss 3.8076 (3.7564)\tTop-5 Accuracy 67.204 (67.849)\n",
            "Epoch: [2][600/1563]\tBatch Time 0.352 (0.346)\tData Load Time 0.025 (0.025)\tLoss 3.6849 (3.7539)\tTop-5 Accuracy 67.539 (67.855)\n",
            "Epoch: [2][700/1563]\tBatch Time 0.331 (0.346)\tData Load Time 0.027 (0.025)\tLoss 3.8252 (3.7506)\tTop-5 Accuracy 66.667 (67.895)\n",
            "Epoch: [2][800/1563]\tBatch Time 0.365 (0.346)\tData Load Time 0.025 (0.025)\tLoss 4.0253 (3.7473)\tTop-5 Accuracy 62.051 (67.948)\n",
            "Epoch: [2][900/1563]\tBatch Time 0.346 (0.346)\tData Load Time 0.025 (0.025)\tLoss 3.5924 (3.7492)\tTop-5 Accuracy 72.678 (67.944)\n",
            "Epoch: [2][1000/1563]\tBatch Time 0.344 (0.346)\tData Load Time 0.025 (0.025)\tLoss 4.0810 (3.7442)\tTop-5 Accuracy 63.388 (68.021)\n",
            "Epoch: [2][1100/1563]\tBatch Time 0.428 (0.346)\tData Load Time 0.024 (0.025)\tLoss 4.1735 (3.7427)\tTop-5 Accuracy 61.966 (68.044)\n",
            "Epoch: [2][1200/1563]\tBatch Time 0.337 (0.346)\tData Load Time 0.024 (0.025)\tLoss 3.8003 (3.7401)\tTop-5 Accuracy 65.946 (68.142)\n",
            "Epoch: [2][1300/1563]\tBatch Time 0.344 (0.346)\tData Load Time 0.026 (0.025)\tLoss 3.9561 (3.7369)\tTop-5 Accuracy 63.830 (68.168)\n",
            "Epoch: [2][1400/1563]\tBatch Time 0.350 (0.346)\tData Load Time 0.025 (0.025)\tLoss 3.7708 (3.7361)\tTop-5 Accuracy 67.347 (68.182)\n",
            "Epoch: [2][1500/1563]\tBatch Time 0.346 (0.346)\tData Load Time 0.025 (0.025)\tLoss 3.4269 (3.7329)\tTop-5 Accuracy 75.000 (68.264)\n",
            "Validation: [0/313]\tBatch Time 0.124 (0.124)\tLoss 3.9031 (3.9031)\tTop-5 Accuracy 65.934 (65.934)\t\n",
            "Validation: [100/313]\tBatch Time 0.125 (0.127)\tLoss 3.8919 (3.9181)\tTop-5 Accuracy 66.474 (66.369)\t\n",
            "Validation: [200/313]\tBatch Time 0.135 (0.127)\tLoss 3.8412 (3.8964)\tTop-5 Accuracy 69.430 (66.787)\t\n",
            "Validation: [300/313]\tBatch Time 0.134 (0.127)\tLoss 3.7044 (3.9098)\tTop-5 Accuracy 68.966 (66.616)\t\n",
            "\n",
            " * LOSS - 3.911, TOP-5 ACCURACY - 66.644, BLEU-4 - 0.14049737634868154\n",
            "\n"
          ]
        }
      ],
      "source": [
        "#@title\n",
        "# Epochs\n",
        "for epoch in range(start_epoch, epochs):\n",
        "\n",
        "    # Decay learning rate if there is no improvement for 8 consecutive epochs, and terminate training after 20\n",
        "    if epochs_since_improvement == 20:\n",
        "        break\n",
        "    if epochs_since_improvement > 0 and epochs_since_improvement % 8 == 0:\n",
        "        adjust_learning_rate(decoder_optimizer, 0.8)\n",
        "        if fine_tune_encoder:\n",
        "            adjust_learning_rate(encoder_optimizer, 0.8)\n",
        "\n",
        "    # One epoch's training\n",
        "    train(train_loader=train_loader,\n",
        "          encoder=encoder,\n",
        "          decoder=decoder,\n",
        "          criterion=criterion,\n",
        "          encoder_optimizer=encoder_optimizer,\n",
        "          decoder_optimizer=decoder_optimizer,\n",
        "          epoch=epoch)\n",
        "\n",
        "    # One epoch's validation\n",
        "    recent_bleu4 = validate(val_loader=val_loader,\n",
        "                            encoder=encoder,\n",
        "                            decoder=decoder,\n",
        "                            criterion=criterion)\n",
        "\n",
        "    # Check if there was an improvement\n",
        "    is_best = recent_bleu4 > best_bleu4\n",
        "    best_bleu4 = max(recent_bleu4, best_bleu4)\n",
        "    if not is_best:\n",
        "        epochs_since_improvement += 1\n",
        "        print(\"\\nEpochs since last improvement: %d\\n\" % (epochs_since_improvement,))\n",
        "    else:\n",
        "        epochs_since_improvement = 0\n",
        "\n",
        "    # Save checkpoint\n",
        "    save_checkpoint(data_name, epoch, epochs_since_improvement, encoder, decoder, encoder_optimizer,\n",
        "                    decoder_optimizer, recent_bleu4, is_best)"
      ]
    },
    {
      "cell_type": "markdown",
      "metadata": {
        "id": "_ReFruQazkvQ"
      },
      "source": [
        "## 5. Evaluation on test set"
      ]
    },
    {
      "cell_type": "code",
      "execution_count": 23,
      "metadata": {
        "id": "6ZQLZ1x70CGm"
      },
      "outputs": [],
      "source": [
        "#@title\n",
        "def evaluate(beam_size):\n",
        "    \"\"\"\n",
        "    Evaluation\n",
        "    :param beam_size: beam size at which to generate captions for evaluation\n",
        "    :return: BLEU-4 score\n",
        "    \"\"\"\n",
        "    # DataLoader\n",
        "    loader = torch.utils.data.DataLoader(\n",
        "        CaptionDataset(data_folder, data_name, 'TEST', transform=transforms.Compose([normalize])),\n",
        "        batch_size=1, shuffle=True, num_workers=1, pin_memory=True)\n",
        "\n",
        "    # TODO: Batched Beam Search\n",
        "    # Therefore, do not use a batch_size greater than 1 - IMPORTANT!\n",
        "\n",
        "    # Lists to store references (true captions), and hypothesis (prediction) for each image\n",
        "    # If for n images, we have n hypotheses, and references a, b, c... for each image, we need -\n",
        "    # references = [[ref1a, ref1b, ref1c], [ref2a, ref2b], ...], hypotheses = [hyp1, hyp2, ...]\n",
        "    references = list()\n",
        "    hypotheses = list()\n",
        "\n",
        "    # For each image\n",
        "    for i, (image, caps, caplens, allcaps) in enumerate(\n",
        "            tqdm(loader, desc=\"EVALUATING AT BEAM SIZE \" + str(beam_size))):\n",
        "\n",
        "        k = beam_size\n",
        "\n",
        "        # Move to GPU device, if available\n",
        "        image = image.to(device)  # (1, 3, 256, 256)\n",
        "\n",
        "        # Encode\n",
        "        encoder_out = encoder(image)  # (1, enc_image_size, enc_image_size, encoder_dim)\n",
        "        enc_image_size = encoder_out.size(1)\n",
        "        encoder_dim = encoder_out.size(3)\n",
        "\n",
        "        # Flatten encoding\n",
        "        encoder_out = encoder_out.view(1, -1, encoder_dim)  # (1, num_pixels, encoder_dim)\n",
        "        num_pixels = encoder_out.size(1)\n",
        "\n",
        "        # We'll treat the problem as having a batch size of k\n",
        "        encoder_out = encoder_out.expand(k, num_pixels, encoder_dim)  # (k, num_pixels, encoder_dim)\n",
        "\n",
        "        # Tensor to store top k previous words at each step; now they're just <start>\n",
        "        k_prev_words = torch.LongTensor([[word_map['<start>']]] * k).to(device)  # (k, 1)\n",
        "\n",
        "        # Tensor to store top k sequences; now they're just <start>\n",
        "        seqs = k_prev_words  # (k, 1)\n",
        "\n",
        "        # Tensor to store top k sequences' scores; now they're just 0\n",
        "        top_k_scores = torch.zeros(k, 1).to(device)  # (k, 1)\n",
        "\n",
        "        # Lists to store completed sequences and scores\n",
        "        complete_seqs = list()\n",
        "        complete_seqs_scores = list()\n",
        "\n",
        "        # Start decoding\n",
        "        step = 1\n",
        "        h, c = decoder.init_hidden_state(encoder_out)\n",
        "\n",
        "        # s is a number less than or equal to k, because sequences are removed from this process once they hit <end>\n",
        "        while True:\n",
        "\n",
        "            embeddings = decoder.embedding(k_prev_words).squeeze(1)  # (s, embed_dim)\n",
        "\n",
        "            awe, _ = decoder.attention(encoder_out, h)  # (s, encoder_dim), (s, num_pixels)\n",
        "\n",
        "            gate = decoder.sigmoid(decoder.f_beta(h))  # gating scalar, (s, encoder_dim)\n",
        "            awe = gate * awe\n",
        "\n",
        "            h, c = decoder.decode_step(torch.cat([embeddings, awe], dim=1), (h, c))  # (s, decoder_dim)\n",
        "\n",
        "            scores = decoder.fc(h)  # (s, vocab_size)\n",
        "            scores = F.log_softmax(scores, dim=1)\n",
        "\n",
        "            # Add\n",
        "            scores = top_k_scores.expand_as(scores) + scores  # (s, vocab_size)\n",
        "\n",
        "            # For the first step, all k points will have the same scores (since same k previous words, h, c)\n",
        "            if step == 1:\n",
        "                top_k_scores, top_k_words = scores[0].topk(k, 0, True, True)  # (s)\n",
        "            else:\n",
        "                # Unroll and find top scores, and their unrolled indices\n",
        "                top_k_scores, top_k_words = scores.view(-1).topk(k, 0, True, True)  # (s)\n",
        "\n",
        "            # Convert unrolled indices to actual indices of scores\n",
        "            prev_word_inds = top_k_words / vocab_size  # (s)\n",
        "            next_word_inds = top_k_words % vocab_size  # (s)\n",
        "\n",
        "            # Add new words to sequences\n",
        "            seqs = torch.cat([seqs[prev_word_inds.long()], next_word_inds.unsqueeze(1)], dim=1)  # (s, step+1)\n",
        "\n",
        "            # Which sequences are incomplete (didn't reach <end>)?\n",
        "            incomplete_inds = [ind for ind, next_word in enumerate(next_word_inds) if\n",
        "                               next_word != word_map['<end>']]\n",
        "            complete_inds = list(set(range(len(next_word_inds))) - set(incomplete_inds))\n",
        "\n",
        "            # Set aside complete sequences\n",
        "            if len(complete_inds) > 0:\n",
        "                complete_seqs.extend(seqs[complete_inds].tolist())\n",
        "                complete_seqs_scores.extend(top_k_scores[complete_inds])\n",
        "            k -= len(complete_inds)  # reduce beam length accordingly\n",
        "\n",
        "            # Proceed with incomplete sequences\n",
        "            if k == 0:\n",
        "                break\n",
        "            seqs = seqs[incomplete_inds]\n",
        "            h = h[prev_word_inds[incomplete_inds].long()]\n",
        "            c = c[prev_word_inds[incomplete_inds].long()]\n",
        "            encoder_out = encoder_out[prev_word_inds[incomplete_inds].long()]\n",
        "            top_k_scores = top_k_scores[incomplete_inds].unsqueeze(1)\n",
        "            k_prev_words = next_word_inds[incomplete_inds].unsqueeze(1)\n",
        "\n",
        "            # Break if things have been going on too long\n",
        "            if step > 50:\n",
        "                break\n",
        "            step += 1\n",
        "\n",
        "        i = complete_seqs_scores.index(max(complete_seqs_scores))\n",
        "        seq = complete_seqs[i]\n",
        "\n",
        "        # References\n",
        "        img_caps = allcaps[0].tolist()\n",
        "        img_captions = list(\n",
        "            map(lambda c: [w for w in c if w not in {word_map['<start>'], word_map['<end>'], word_map['<pad>']}],\n",
        "                img_caps))  # remove <start> and pads\n",
        "        references.append(img_captions)\n",
        "\n",
        "        # Hypotheses\n",
        "        hypotheses.append([w for w in seq if w not in {word_map['<start>'], word_map['<end>'], word_map['<pad>']}])\n",
        "\n",
        "        assert len(references) == len(hypotheses)\n",
        "\n",
        "    # Calculate BLEU-4 scores\n",
        "    bleu4 = corpus_bleu(references, hypotheses)\n",
        "\n",
        "    return bleu4"
      ]
    },
    {
      "cell_type": "markdown",
      "metadata": {
        "id": "8dlYatuK1BJi"
      },
      "source": [
        "Evaluate your model on the test set"
      ]
    },
    {
      "cell_type": "code",
      "execution_count": 24,
      "metadata": {
        "id": "RZVFTdaD0K_6"
      },
      "outputs": [],
      "source": [
        "#@title\n",
        "# Parameters\n",
        "data_folder = 'coco_image_captions_preprocessed/'  # folder with data files \n",
        "data_name = 'coco_5_cap_per_img_5_min_word_freq'  # base name shared by data files\n",
        "checkpoint = 'BEST_checkpoint_coco_5_cap_per_img_5_min_word_freq.pth.tar'  # model checkpoint\n",
        "word_map_file = 'coco_image_captions_preprocessed/WORDMAP_coco_5_cap_per_img_5_min_word_freq.json'  # word map, ensure it's the same the data was encoded with and the model was trained with\n",
        "device = torch.device(\"cuda\" if torch.cuda.is_available() else \"cpu\")  # sets device for model and PyTorch tensors\n",
        "cudnn.benchmark = True  # set to true only if inputs to model are fixed size; otherwise lot of computational overhead\n",
        "\n",
        "# Load model\n",
        "checkpoint = torch.load(checkpoint)\n",
        "decoder = checkpoint['decoder']\n",
        "decoder = decoder.to(device)\n",
        "decoder.eval()\n",
        "encoder = checkpoint['encoder']\n",
        "encoder = encoder.to(device)\n",
        "encoder.eval()\n",
        "\n",
        "# Load word map (word2ix)\n",
        "with open(word_map_file, 'r') as j:\n",
        "    word_map = json.load(j)\n",
        "rev_word_map = {v: k for k, v in word_map.items()}\n",
        "vocab_size = len(word_map)\n",
        "\n",
        "# Normalization transform\n",
        "normalize = transforms.Normalize(mean=[0.485, 0.456, 0.406],\n",
        "                                 std=[0.229, 0.224, 0.225])"
      ]
    },
    {
      "cell_type": "code",
      "execution_count": 25,
      "metadata": {
        "colab": {
          "base_uri": "https://localhost:8080/"
        },
        "id": "RSutrHDs0NiL",
        "outputId": "5557cebd-72b6-471e-9914-cd86b43d8a91"
      },
      "outputs": [
        {
          "name": "stderr",
          "output_type": "stream",
          "text": [
            "EVALUATING AT BEAM SIZE 2: 100%|██████████| 5000/5000 [02:54<00:00, 28.70it/s]\n"
          ]
        },
        {
          "name": "stdout",
          "output_type": "stream",
          "text": [
            "\n",
            "BLEU-4 score @ beam size of 2 is 0.2154.\n"
          ]
        }
      ],
      "source": [
        "beam_size = 2\n",
        "print(\"\\nBLEU-4 score @ beam size of %d is %.4f.\" % (beam_size, evaluate(beam_size)))"
      ]
    },
    {
      "cell_type": "markdown",
      "metadata": {
        "id": "rn4WMZXOtKnl"
      },
      "source": [
        "If you get an error in the previous cell, most likely your model's predictions are too bad (very low confidence score), therefore they are not selected and it returns an empty array. You can fix that by either retraining your model further, changing the hyperparamters or in the last case scenario increase the beam_size parameter to 3,4,5. More than 5 is already \"cheating\" but may be considered in extreme cases."
      ]
    },
    {
      "cell_type": "markdown",
      "metadata": {
        "id": "_FqV0w_vWkDB"
      },
      "source": [
        "## Remarks"
      ]
    },
    {
      "cell_type": "markdown",
      "metadata": {
        "id": "dcqbEXOiXQuS"
      },
      "source": [
        "You CAN change other parts of the code if you believe it would help you achieve better results. But for the purpose of the limited time, long code and possible errors, I would recommend you to only change what was asked.\n",
        "\n",
        "Please explain your choices, the different values you tried, your experience and your conclusion. "
      ]
    },
    {
      "cell_type": "markdown",
      "metadata": {
        "id": "YKqO68u7zEpw"
      },
      "source": [
        "\n",
        "emb_dim(512) :A larger value for emb_dim may improve the ability of the model to capture the semantics and meaning of words.\n",
        "\n",
        "attention_dim(512): A larger value for attention_dim may improve the ability of the model to focus on specific parts of the input.\n",
        "\n",
        "decoder_dim(512): A larger value for decoder_dim may improve the ability of the model to capture the dependencies between the past generated words and the current word.\n",
        "\n",
        "dropout(0.6): A higher value for dropout (closer to 1.0) will increase the amount of regularization applied to the model, which can help prevent overfitting.\n",
        "         However, if the value is too high, it may also hurt the performance of the model that is why i choose 0.6.\n",
        "\n",
        "\n"
      ]
    }
  ],
  "metadata": {
    "accelerator": "GPU",
    "colab": {
      "provenance": []
    },
    "gpuClass": "standard",
    "kernelspec": {
      "display_name": "Python 3",
      "name": "python3"
    },
    "language_info": {
      "name": "python"
    },
    "widgets": {
      "application/vnd.jupyter.widget-state+json": {
        "0676549ad6e3499cb279b6af9190e122": {
          "model_module": "@jupyter-widgets/controls",
          "model_module_version": "1.5.0",
          "model_name": "HBoxModel",
          "state": {
            "_dom_classes": [],
            "_model_module": "@jupyter-widgets/controls",
            "_model_module_version": "1.5.0",
            "_model_name": "HBoxModel",
            "_view_count": null,
            "_view_module": "@jupyter-widgets/controls",
            "_view_module_version": "1.5.0",
            "_view_name": "HBoxView",
            "box_style": "",
            "children": [
              "IPY_MODEL_30f116b5739048788969b43a6a451412",
              "IPY_MODEL_2fefbfab34494575b1a63b537d208464",
              "IPY_MODEL_3ef98ada869946b4911f30867aac0ece"
            ],
            "layout": "IPY_MODEL_cf9437bd2c6a44758bea1d354ae5d633"
          }
        },
        "27392192272946abb6752ad552dd9f16": {
          "model_module": "@jupyter-widgets/base",
          "model_module_version": "1.2.0",
          "model_name": "LayoutModel",
          "state": {
            "_model_module": "@jupyter-widgets/base",
            "_model_module_version": "1.2.0",
            "_model_name": "LayoutModel",
            "_view_count": null,
            "_view_module": "@jupyter-widgets/base",
            "_view_module_version": "1.2.0",
            "_view_name": "LayoutView",
            "align_content": null,
            "align_items": null,
            "align_self": null,
            "border": null,
            "bottom": null,
            "display": null,
            "flex": null,
            "flex_flow": null,
            "grid_area": null,
            "grid_auto_columns": null,
            "grid_auto_flow": null,
            "grid_auto_rows": null,
            "grid_column": null,
            "grid_gap": null,
            "grid_row": null,
            "grid_template_areas": null,
            "grid_template_columns": null,
            "grid_template_rows": null,
            "height": null,
            "justify_content": null,
            "justify_items": null,
            "left": null,
            "margin": null,
            "max_height": null,
            "max_width": null,
            "min_height": null,
            "min_width": null,
            "object_fit": null,
            "object_position": null,
            "order": null,
            "overflow": null,
            "overflow_x": null,
            "overflow_y": null,
            "padding": null,
            "right": null,
            "top": null,
            "visibility": null,
            "width": null
          }
        },
        "2fefbfab34494575b1a63b537d208464": {
          "model_module": "@jupyter-widgets/controls",
          "model_module_version": "1.5.0",
          "model_name": "FloatProgressModel",
          "state": {
            "_dom_classes": [],
            "_model_module": "@jupyter-widgets/controls",
            "_model_module_version": "1.5.0",
            "_model_name": "FloatProgressModel",
            "_view_count": null,
            "_view_module": "@jupyter-widgets/controls",
            "_view_module_version": "1.5.0",
            "_view_name": "ProgressView",
            "bar_style": "success",
            "description": "",
            "description_tooltip": null,
            "layout": "IPY_MODEL_63506c10a7364afd94b1d899fc26abc8",
            "max": 102530333,
            "min": 0,
            "orientation": "horizontal",
            "style": "IPY_MODEL_89fb711e5a0641ffbbccfe4c5b9c4c06",
            "value": 102530333
          }
        },
        "30f116b5739048788969b43a6a451412": {
          "model_module": "@jupyter-widgets/controls",
          "model_module_version": "1.5.0",
          "model_name": "HTMLModel",
          "state": {
            "_dom_classes": [],
            "_model_module": "@jupyter-widgets/controls",
            "_model_module_version": "1.5.0",
            "_model_name": "HTMLModel",
            "_view_count": null,
            "_view_module": "@jupyter-widgets/controls",
            "_view_module_version": "1.5.0",
            "_view_name": "HTMLView",
            "description": "",
            "description_tooltip": null,
            "layout": "IPY_MODEL_7e9052bab7164b5b9f1c39a7a932163c",
            "placeholder": "​",
            "style": "IPY_MODEL_b0132a4ebc50438d8fd69e77aae22c10",
            "value": "100%"
          }
        },
        "3ef98ada869946b4911f30867aac0ece": {
          "model_module": "@jupyter-widgets/controls",
          "model_module_version": "1.5.0",
          "model_name": "HTMLModel",
          "state": {
            "_dom_classes": [],
            "_model_module": "@jupyter-widgets/controls",
            "_model_module_version": "1.5.0",
            "_model_name": "HTMLModel",
            "_view_count": null,
            "_view_module": "@jupyter-widgets/controls",
            "_view_module_version": "1.5.0",
            "_view_name": "HTMLView",
            "description": "",
            "description_tooltip": null,
            "layout": "IPY_MODEL_27392192272946abb6752ad552dd9f16",
            "placeholder": "​",
            "style": "IPY_MODEL_b94986ce98714ef6bf4ca7bf59e1e831",
            "value": " 97.8M/97.8M [00:01&lt;00:00, 184MB/s]"
          }
        },
        "63506c10a7364afd94b1d899fc26abc8": {
          "model_module": "@jupyter-widgets/base",
          "model_module_version": "1.2.0",
          "model_name": "LayoutModel",
          "state": {
            "_model_module": "@jupyter-widgets/base",
            "_model_module_version": "1.2.0",
            "_model_name": "LayoutModel",
            "_view_count": null,
            "_view_module": "@jupyter-widgets/base",
            "_view_module_version": "1.2.0",
            "_view_name": "LayoutView",
            "align_content": null,
            "align_items": null,
            "align_self": null,
            "border": null,
            "bottom": null,
            "display": null,
            "flex": null,
            "flex_flow": null,
            "grid_area": null,
            "grid_auto_columns": null,
            "grid_auto_flow": null,
            "grid_auto_rows": null,
            "grid_column": null,
            "grid_gap": null,
            "grid_row": null,
            "grid_template_areas": null,
            "grid_template_columns": null,
            "grid_template_rows": null,
            "height": null,
            "justify_content": null,
            "justify_items": null,
            "left": null,
            "margin": null,
            "max_height": null,
            "max_width": null,
            "min_height": null,
            "min_width": null,
            "object_fit": null,
            "object_position": null,
            "order": null,
            "overflow": null,
            "overflow_x": null,
            "overflow_y": null,
            "padding": null,
            "right": null,
            "top": null,
            "visibility": null,
            "width": null
          }
        },
        "7e9052bab7164b5b9f1c39a7a932163c": {
          "model_module": "@jupyter-widgets/base",
          "model_module_version": "1.2.0",
          "model_name": "LayoutModel",
          "state": {
            "_model_module": "@jupyter-widgets/base",
            "_model_module_version": "1.2.0",
            "_model_name": "LayoutModel",
            "_view_count": null,
            "_view_module": "@jupyter-widgets/base",
            "_view_module_version": "1.2.0",
            "_view_name": "LayoutView",
            "align_content": null,
            "align_items": null,
            "align_self": null,
            "border": null,
            "bottom": null,
            "display": null,
            "flex": null,
            "flex_flow": null,
            "grid_area": null,
            "grid_auto_columns": null,
            "grid_auto_flow": null,
            "grid_auto_rows": null,
            "grid_column": null,
            "grid_gap": null,
            "grid_row": null,
            "grid_template_areas": null,
            "grid_template_columns": null,
            "grid_template_rows": null,
            "height": null,
            "justify_content": null,
            "justify_items": null,
            "left": null,
            "margin": null,
            "max_height": null,
            "max_width": null,
            "min_height": null,
            "min_width": null,
            "object_fit": null,
            "object_position": null,
            "order": null,
            "overflow": null,
            "overflow_x": null,
            "overflow_y": null,
            "padding": null,
            "right": null,
            "top": null,
            "visibility": null,
            "width": null
          }
        },
        "89fb711e5a0641ffbbccfe4c5b9c4c06": {
          "model_module": "@jupyter-widgets/controls",
          "model_module_version": "1.5.0",
          "model_name": "ProgressStyleModel",
          "state": {
            "_model_module": "@jupyter-widgets/controls",
            "_model_module_version": "1.5.0",
            "_model_name": "ProgressStyleModel",
            "_view_count": null,
            "_view_module": "@jupyter-widgets/base",
            "_view_module_version": "1.2.0",
            "_view_name": "StyleView",
            "bar_color": null,
            "description_width": ""
          }
        },
        "b0132a4ebc50438d8fd69e77aae22c10": {
          "model_module": "@jupyter-widgets/controls",
          "model_module_version": "1.5.0",
          "model_name": "DescriptionStyleModel",
          "state": {
            "_model_module": "@jupyter-widgets/controls",
            "_model_module_version": "1.5.0",
            "_model_name": "DescriptionStyleModel",
            "_view_count": null,
            "_view_module": "@jupyter-widgets/base",
            "_view_module_version": "1.2.0",
            "_view_name": "StyleView",
            "description_width": ""
          }
        },
        "b94986ce98714ef6bf4ca7bf59e1e831": {
          "model_module": "@jupyter-widgets/controls",
          "model_module_version": "1.5.0",
          "model_name": "DescriptionStyleModel",
          "state": {
            "_model_module": "@jupyter-widgets/controls",
            "_model_module_version": "1.5.0",
            "_model_name": "DescriptionStyleModel",
            "_view_count": null,
            "_view_module": "@jupyter-widgets/base",
            "_view_module_version": "1.2.0",
            "_view_name": "StyleView",
            "description_width": ""
          }
        },
        "cf9437bd2c6a44758bea1d354ae5d633": {
          "model_module": "@jupyter-widgets/base",
          "model_module_version": "1.2.0",
          "model_name": "LayoutModel",
          "state": {
            "_model_module": "@jupyter-widgets/base",
            "_model_module_version": "1.2.0",
            "_model_name": "LayoutModel",
            "_view_count": null,
            "_view_module": "@jupyter-widgets/base",
            "_view_module_version": "1.2.0",
            "_view_name": "LayoutView",
            "align_content": null,
            "align_items": null,
            "align_self": null,
            "border": null,
            "bottom": null,
            "display": null,
            "flex": null,
            "flex_flow": null,
            "grid_area": null,
            "grid_auto_columns": null,
            "grid_auto_flow": null,
            "grid_auto_rows": null,
            "grid_column": null,
            "grid_gap": null,
            "grid_row": null,
            "grid_template_areas": null,
            "grid_template_columns": null,
            "grid_template_rows": null,
            "height": null,
            "justify_content": null,
            "justify_items": null,
            "left": null,
            "margin": null,
            "max_height": null,
            "max_width": null,
            "min_height": null,
            "min_width": null,
            "object_fit": null,
            "object_position": null,
            "order": null,
            "overflow": null,
            "overflow_x": null,
            "overflow_y": null,
            "padding": null,
            "right": null,
            "top": null,
            "visibility": null,
            "width": null
          }
        }
      }
    }
  },
  "nbformat": 4,
  "nbformat_minor": 0
}
